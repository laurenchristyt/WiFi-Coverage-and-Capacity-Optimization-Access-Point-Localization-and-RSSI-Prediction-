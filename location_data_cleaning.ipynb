{
 "cells": [
  {
   "cell_type": "code",
   "execution_count": 1,
   "metadata": {},
   "outputs": [
    {
     "name": "stdout",
     "output_type": "stream",
     "text": [
      "Requirement already satisfied: scikit-learn in d:\\skripsi\\test train\\venv\\lib\\site-packages (1.5.2)\n",
      "Requirement already satisfied: numpy>=1.19.5 in d:\\skripsi\\test train\\venv\\lib\\site-packages (from scikit-learn) (2.1.2)\n",
      "Requirement already satisfied: scipy>=1.6.0 in d:\\skripsi\\test train\\venv\\lib\\site-packages (from scikit-learn) (1.14.1)\n",
      "Requirement already satisfied: joblib>=1.2.0 in d:\\skripsi\\test train\\venv\\lib\\site-packages (from scikit-learn) (1.4.2)\n",
      "Requirement already satisfied: threadpoolctl>=3.1.0 in d:\\skripsi\\test train\\venv\\lib\\site-packages (from scikit-learn) (3.5.0)\n",
      "Note: you may need to restart the kernel to use updated packages.\n"
     ]
    },
    {
     "name": "stderr",
     "output_type": "stream",
     "text": [
      "\n",
      "[notice] A new release of pip is available: 23.2.1 -> 24.2\n",
      "[notice] To update, run: python.exe -m pip install --upgrade pip\n"
     ]
    },
    {
     "name": "stdout",
     "output_type": "stream",
     "text": [
      "Requirement already satisfied: python-dotenv in d:\\skripsi\\test train\\venv\\lib\\site-packages (1.0.1)\n",
      "Note: you may need to restart the kernel to use updated packages.\n"
     ]
    },
    {
     "name": "stderr",
     "output_type": "stream",
     "text": [
      "\n",
      "[notice] A new release of pip is available: 23.2.1 -> 24.2\n",
      "[notice] To update, run: python.exe -m pip install --upgrade pip\n"
     ]
    },
    {
     "name": "stdout",
     "output_type": "stream",
     "text": [
      "Requirement already satisfied: influxdb-client in d:\\skripsi\\test train\\venv\\lib\\site-packages (1.47.0)\n",
      "Requirement already satisfied: reactivex>=4.0.4 in d:\\skripsi\\test train\\venv\\lib\\site-packages (from influxdb-client) (4.0.4)\n",
      "Requirement already satisfied: certifi>=14.05.14 in d:\\skripsi\\test train\\venv\\lib\\site-packages (from influxdb-client) (2024.8.30)\n",
      "Requirement already satisfied: python-dateutil>=2.5.3 in d:\\skripsi\\test train\\venv\\lib\\site-packages (from influxdb-client) (2.9.0.post0)\n",
      "Requirement already satisfied: setuptools>=21.0.0 in d:\\skripsi\\test train\\venv\\lib\\site-packages (from influxdb-client) (75.2.0)\n",
      "Requirement already satisfied: urllib3>=1.26.0 in d:\\skripsi\\test train\\venv\\lib\\site-packages (from influxdb-client) (2.2.3)\n",
      "Requirement already satisfied: six>=1.5 in d:\\skripsi\\test train\\venv\\lib\\site-packages (from python-dateutil>=2.5.3->influxdb-client) (1.16.0)\n",
      "Requirement already satisfied: typing-extensions<5.0.0,>=4.1.1 in d:\\skripsi\\test train\\venv\\lib\\site-packages (from reactivex>=4.0.4->influxdb-client) (4.12.2)\n",
      "Note: you may need to restart the kernel to use updated packages.\n"
     ]
    },
    {
     "name": "stderr",
     "output_type": "stream",
     "text": [
      "\n",
      "[notice] A new release of pip is available: 23.2.1 -> 24.2\n",
      "[notice] To update, run: python.exe -m pip install --upgrade pip\n"
     ]
    },
    {
     "name": "stdout",
     "output_type": "stream",
     "text": [
      "Requirement already satisfied: pandas in d:\\skripsi\\test train\\venv\\lib\\site-packages (2.2.3)\n",
      "Requirement already satisfied: numpy>=1.26.0 in d:\\skripsi\\test train\\venv\\lib\\site-packages (from pandas) (2.1.2)\n",
      "Requirement already satisfied: python-dateutil>=2.8.2 in d:\\skripsi\\test train\\venv\\lib\\site-packages (from pandas) (2.9.0.post0)\n",
      "Requirement already satisfied: pytz>=2020.1 in d:\\skripsi\\test train\\venv\\lib\\site-packages (from pandas) (2024.2)\n",
      "Requirement already satisfied: tzdata>=2022.7 in d:\\skripsi\\test train\\venv\\lib\\site-packages (from pandas) (2024.2)\n",
      "Requirement already satisfied: six>=1.5 in d:\\skripsi\\test train\\venv\\lib\\site-packages (from python-dateutil>=2.8.2->pandas) (1.16.0)\n",
      "Note: you may need to restart the kernel to use updated packages.\n"
     ]
    },
    {
     "name": "stderr",
     "output_type": "stream",
     "text": [
      "\n",
      "[notice] A new release of pip is available: 23.2.1 -> 24.2\n",
      "[notice] To update, run: python.exe -m pip install --upgrade pip\n"
     ]
    },
    {
     "name": "stdout",
     "output_type": "stream",
     "text": [
      "Requirement already satisfied: pyyaml in d:\\skripsi\\test train\\venv\\lib\\site-packages (6.0.2)\n",
      "Note: you may need to restart the kernel to use updated packages.\n"
     ]
    },
    {
     "name": "stderr",
     "output_type": "stream",
     "text": [
      "\n",
      "[notice] A new release of pip is available: 23.2.1 -> 24.2\n",
      "[notice] To update, run: python.exe -m pip install --upgrade pip\n"
     ]
    },
    {
     "name": "stdout",
     "output_type": "stream",
     "text": [
      "Requirement already satisfied: numpy in d:\\skripsi\\test train\\venv\\lib\\site-packages (2.1.2)\n",
      "Note: you may need to restart the kernel to use updated packages.\n"
     ]
    },
    {
     "name": "stderr",
     "output_type": "stream",
     "text": [
      "\n",
      "[notice] A new release of pip is available: 23.2.1 -> 24.2\n",
      "[notice] To update, run: python.exe -m pip install --upgrade pip\n"
     ]
    },
    {
     "name": "stdout",
     "output_type": "stream",
     "text": [
      "Requirement already satisfied: matplotlib in d:\\skripsi\\test train\\venv\\lib\\site-packages (3.9.2)\n",
      "Requirement already satisfied: contourpy>=1.0.1 in d:\\skripsi\\test train\\venv\\lib\\site-packages (from matplotlib) (1.3.0)\n",
      "Requirement already satisfied: cycler>=0.10 in d:\\skripsi\\test train\\venv\\lib\\site-packages (from matplotlib) (0.12.1)\n",
      "Requirement already satisfied: fonttools>=4.22.0 in d:\\skripsi\\test train\\venv\\lib\\site-packages (from matplotlib) (4.54.1)\n",
      "Requirement already satisfied: kiwisolver>=1.3.1 in d:\\skripsi\\test train\\venv\\lib\\site-packages (from matplotlib) (1.4.7)\n",
      "Requirement already satisfied: numpy>=1.23 in d:\\skripsi\\test train\\venv\\lib\\site-packages (from matplotlib) (2.1.2)\n",
      "Requirement already satisfied: packaging>=20.0 in d:\\skripsi\\test train\\venv\\lib\\site-packages (from matplotlib) (24.1)\n",
      "Requirement already satisfied: pillow>=8 in d:\\skripsi\\test train\\venv\\lib\\site-packages (from matplotlib) (11.0.0)\n",
      "Requirement already satisfied: pyparsing>=2.3.1 in d:\\skripsi\\test train\\venv\\lib\\site-packages (from matplotlib) (3.2.0)\n",
      "Requirement already satisfied: python-dateutil>=2.7 in d:\\skripsi\\test train\\venv\\lib\\site-packages (from matplotlib) (2.9.0.post0)\n",
      "Requirement already satisfied: six>=1.5 in d:\\skripsi\\test train\\venv\\lib\\site-packages (from python-dateutil>=2.7->matplotlib) (1.16.0)\n",
      "Note: you may need to restart the kernel to use updated packages.\n"
     ]
    },
    {
     "name": "stderr",
     "output_type": "stream",
     "text": [
      "\n",
      "[notice] A new release of pip is available: 23.2.1 -> 24.2\n",
      "[notice] To update, run: python.exe -m pip install --upgrade pip\n"
     ]
    }
   ],
   "source": [
    "%pip install --upgrade scikit-learn\n",
    "%pip install python-dotenv\n",
    "%pip install influxdb-client\n",
    "%pip install pandas\n",
    "%pip install pyyaml\n",
    "%pip install numpy\n",
    "%pip install matplotlib"
   ]
  },
  {
   "cell_type": "code",
   "execution_count": 2,
   "metadata": {},
   "outputs": [
    {
     "data": {
      "text/plain": [
       "False"
      ]
     },
     "execution_count": 2,
     "metadata": {},
     "output_type": "execute_result"
    }
   ],
   "source": [
    "import io\n",
    "import os\n",
    "import time\n",
    "import yaml\n",
    "import warnings\n",
    "import pandas as pd\n",
    "import json\n",
    "import hashlib\n",
    "import csv\n",
    "from influxdb_client import InfluxDBClient\n",
    "from influxdb_client.client.warnings import MissingPivotFunction\n",
    "from dotenv import load_dotenv\n",
    "\n",
    "import numpy as np\n",
    "from functools import partial\n",
    "\n",
    "# Suppress specific warnings\n",
    "warnings.simplefilter(\"ignore\", MissingPivotFunction)\n",
    "\n",
    "# Load environment variables\n",
    "load_dotenv()"
   ]
  },
  {
   "cell_type": "code",
   "execution_count": 3,
   "metadata": {},
   "outputs": [],
   "source": [
    "df = pd.read_csv('dataset.csv')"
   ]
  },
  {
   "cell_type": "code",
   "execution_count": 4,
   "metadata": {},
   "outputs": [
    {
     "data": {
      "text/html": [
       "<div>\n",
       "<style scoped>\n",
       "    .dataframe tbody tr th:only-of-type {\n",
       "        vertical-align: middle;\n",
       "    }\n",
       "\n",
       "    .dataframe tbody tr th {\n",
       "        vertical-align: top;\n",
       "    }\n",
       "\n",
       "    .dataframe thead th {\n",
       "        text-align: right;\n",
       "    }\n",
       "</style>\n",
       "<table border=\"1\" class=\"dataframe\">\n",
       "  <thead>\n",
       "    <tr style=\"text-align: right;\">\n",
       "      <th></th>\n",
       "      <th>Unnamed: 0</th>\n",
       "      <th>bssid</th>\n",
       "      <th>channel</th>\n",
       "      <th>host</th>\n",
       "      <th>iteration</th>\n",
       "      <th>reference_point</th>\n",
       "      <th>rssi</th>\n",
       "      <th>ssid</th>\n",
       "      <th>time</th>\n",
       "      <th>topic</th>\n",
       "      <th>xr</th>\n",
       "      <th>yr</th>\n",
       "    </tr>\n",
       "  </thead>\n",
       "  <tbody>\n",
       "    <tr>\n",
       "      <th>0</th>\n",
       "      <td>NaN</td>\n",
       "      <td>70:A7:41:DC:8E:55</td>\n",
       "      <td>1</td>\n",
       "      <td>LAUREN</td>\n",
       "      <td>1</td>\n",
       "      <td>RP29</td>\n",
       "      <td>-92</td>\n",
       "      <td>DTE Staff</td>\n",
       "      <td>2024-10-17T10:19:36.0867022Z</td>\n",
       "      <td>esp/topic</td>\n",
       "      <td>989</td>\n",
       "      <td>1037</td>\n",
       "    </tr>\n",
       "    <tr>\n",
       "      <th>1</th>\n",
       "      <td>NaN</td>\n",
       "      <td>70:A7:41:DC:8E:55</td>\n",
       "      <td>1</td>\n",
       "      <td>LAUREN</td>\n",
       "      <td>10</td>\n",
       "      <td>RP29</td>\n",
       "      <td>-94</td>\n",
       "      <td>DTE Staff</td>\n",
       "      <td>2024-10-17T10:23:26.6782315Z</td>\n",
       "      <td>esp/topic</td>\n",
       "      <td>989</td>\n",
       "      <td>1037</td>\n",
       "    </tr>\n",
       "    <tr>\n",
       "      <th>2</th>\n",
       "      <td>NaN</td>\n",
       "      <td>70:A7:41:DC:8E:55</td>\n",
       "      <td>1</td>\n",
       "      <td>LAUREN</td>\n",
       "      <td>11</td>\n",
       "      <td>RP29</td>\n",
       "      <td>-94</td>\n",
       "      <td>DTE Staff</td>\n",
       "      <td>2024-10-17T10:23:51.8041404Z</td>\n",
       "      <td>esp/topic</td>\n",
       "      <td>989</td>\n",
       "      <td>1037</td>\n",
       "    </tr>\n",
       "    <tr>\n",
       "      <th>3</th>\n",
       "      <td>NaN</td>\n",
       "      <td>70:A7:41:DC:8E:55</td>\n",
       "      <td>1</td>\n",
       "      <td>LAUREN</td>\n",
       "      <td>12</td>\n",
       "      <td>RP29</td>\n",
       "      <td>-90</td>\n",
       "      <td>DTE Staff</td>\n",
       "      <td>2024-10-17T10:24:13.6954786Z</td>\n",
       "      <td>esp/topic</td>\n",
       "      <td>989</td>\n",
       "      <td>1037</td>\n",
       "    </tr>\n",
       "    <tr>\n",
       "      <th>4</th>\n",
       "      <td>NaN</td>\n",
       "      <td>70:A7:41:DC:8E:55</td>\n",
       "      <td>1</td>\n",
       "      <td>LAUREN</td>\n",
       "      <td>13</td>\n",
       "      <td>RP29</td>\n",
       "      <td>-91</td>\n",
       "      <td>DTE Staff</td>\n",
       "      <td>2024-10-17T10:24:38.6661326Z</td>\n",
       "      <td>esp/topic</td>\n",
       "      <td>989</td>\n",
       "      <td>1037</td>\n",
       "    </tr>\n",
       "  </tbody>\n",
       "</table>\n",
       "</div>"
      ],
      "text/plain": [
       "   Unnamed: 0              bssid  channel    host  iteration reference_point  \\\n",
       "0         NaN  70:A7:41:DC:8E:55        1  LAUREN          1            RP29   \n",
       "1         NaN  70:A7:41:DC:8E:55        1  LAUREN         10            RP29   \n",
       "2         NaN  70:A7:41:DC:8E:55        1  LAUREN         11            RP29   \n",
       "3         NaN  70:A7:41:DC:8E:55        1  LAUREN         12            RP29   \n",
       "4         NaN  70:A7:41:DC:8E:55        1  LAUREN         13            RP29   \n",
       "\n",
       "   rssi       ssid                          time      topic   xr    yr  \n",
       "0   -92  DTE Staff  2024-10-17T10:19:36.0867022Z  esp/topic  989  1037  \n",
       "1   -94  DTE Staff  2024-10-17T10:23:26.6782315Z  esp/topic  989  1037  \n",
       "2   -94  DTE Staff  2024-10-17T10:23:51.8041404Z  esp/topic  989  1037  \n",
       "3   -90  DTE Staff  2024-10-17T10:24:13.6954786Z  esp/topic  989  1037  \n",
       "4   -91  DTE Staff  2024-10-17T10:24:38.6661326Z  esp/topic  989  1037  "
      ]
     },
     "execution_count": 4,
     "metadata": {},
     "output_type": "execute_result"
    }
   ],
   "source": [
    "df.head()"
   ]
  },
  {
   "cell_type": "code",
   "execution_count": 5,
   "metadata": {},
   "outputs": [
    {
     "data": {
      "text/plain": [
       "Index(['Unnamed: 0', 'bssid', 'channel', 'host', 'iteration',\n",
       "       'reference_point', 'rssi', 'ssid', 'time', 'topic', 'xr', 'yr'],\n",
       "      dtype='object')"
      ]
     },
     "execution_count": 5,
     "metadata": {},
     "output_type": "execute_result"
    }
   ],
   "source": [
    "df.columns"
   ]
  },
  {
   "cell_type": "code",
   "execution_count": 6,
   "metadata": {},
   "outputs": [],
   "source": [
    "df = df.drop(columns=['Unnamed: 0','host', 'topic'])\n",
    "# df['time'] = pd.to_datetime(df['time'])"
   ]
  },
  {
   "cell_type": "code",
   "execution_count": 7,
   "metadata": {},
   "outputs": [
    {
     "data": {
      "text/html": [
       "<div>\n",
       "<style scoped>\n",
       "    .dataframe tbody tr th:only-of-type {\n",
       "        vertical-align: middle;\n",
       "    }\n",
       "\n",
       "    .dataframe tbody tr th {\n",
       "        vertical-align: top;\n",
       "    }\n",
       "\n",
       "    .dataframe thead th {\n",
       "        text-align: right;\n",
       "    }\n",
       "</style>\n",
       "<table border=\"1\" class=\"dataframe\">\n",
       "  <thead>\n",
       "    <tr style=\"text-align: right;\">\n",
       "      <th></th>\n",
       "      <th>bssid</th>\n",
       "      <th>channel</th>\n",
       "      <th>iteration</th>\n",
       "      <th>reference_point</th>\n",
       "      <th>rssi</th>\n",
       "      <th>ssid</th>\n",
       "      <th>time</th>\n",
       "      <th>xr</th>\n",
       "      <th>yr</th>\n",
       "    </tr>\n",
       "  </thead>\n",
       "  <tbody>\n",
       "    <tr>\n",
       "      <th>1456</th>\n",
       "      <td>72:A7:41:9C:77:CD</td>\n",
       "      <td>11</td>\n",
       "      <td>1</td>\n",
       "      <td>RP35</td>\n",
       "      <td>-49</td>\n",
       "      <td>DTE Student</td>\n",
       "      <td>2024-10-23T08:45:55.4447115Z</td>\n",
       "      <td>1678</td>\n",
       "      <td>1037</td>\n",
       "    </tr>\n",
       "    <tr>\n",
       "      <th>1265</th>\n",
       "      <td>70:A7:41:DC:8E:55</td>\n",
       "      <td>1</td>\n",
       "      <td>17</td>\n",
       "      <td>RP33</td>\n",
       "      <td>-91</td>\n",
       "      <td>DTE Staff</td>\n",
       "      <td>2024-10-23T09:03:00.9753853Z</td>\n",
       "      <td>1449</td>\n",
       "      <td>1037</td>\n",
       "    </tr>\n",
       "    <tr>\n",
       "      <th>824</th>\n",
       "      <td>70:A7:41:DC:77:CD</td>\n",
       "      <td>11</td>\n",
       "      <td>18</td>\n",
       "      <td>RP14</td>\n",
       "      <td>-66</td>\n",
       "      <td>DTE Staff</td>\n",
       "      <td>2024-10-23T03:22:23.4403879Z</td>\n",
       "      <td>759</td>\n",
       "      <td>1948</td>\n",
       "    </tr>\n",
       "    <tr>\n",
       "      <th>584</th>\n",
       "      <td>70:A7:41:DC:77:CD</td>\n",
       "      <td>11</td>\n",
       "      <td>17</td>\n",
       "      <td>RP8</td>\n",
       "      <td>-68</td>\n",
       "      <td>DTE Staff</td>\n",
       "      <td>2024-10-17T09:59:02.1430941Z</td>\n",
       "      <td>529</td>\n",
       "      <td>1749</td>\n",
       "    </tr>\n",
       "    <tr>\n",
       "      <th>1363</th>\n",
       "      <td>70:A7:41:DC:77:CD</td>\n",
       "      <td>11</td>\n",
       "      <td>16</td>\n",
       "      <td>RP34</td>\n",
       "      <td>-46</td>\n",
       "      <td>DTE Staff</td>\n",
       "      <td>2024-10-23T09:12:10.7500781Z</td>\n",
       "      <td>1449</td>\n",
       "      <td>1202</td>\n",
       "    </tr>\n",
       "    <tr>\n",
       "      <th>62</th>\n",
       "      <td>72:A7:41:9C:8E:55</td>\n",
       "      <td>1</td>\n",
       "      <td>13</td>\n",
       "      <td>RP30</td>\n",
       "      <td>-91</td>\n",
       "      <td>DTE IoT</td>\n",
       "      <td>2024-10-17T10:34:12.6214057Z</td>\n",
       "      <td>989</td>\n",
       "      <td>1202</td>\n",
       "    </tr>\n",
       "    <tr>\n",
       "      <th>1589</th>\n",
       "      <td>70:A7:41:DC:8E:55</td>\n",
       "      <td>1</td>\n",
       "      <td>7</td>\n",
       "      <td>RP38</td>\n",
       "      <td>-80</td>\n",
       "      <td>DTE Staff</td>\n",
       "      <td>2024-10-23T06:47:41.2670918Z</td>\n",
       "      <td>1908</td>\n",
       "      <td>1202</td>\n",
       "    </tr>\n",
       "    <tr>\n",
       "      <th>1893</th>\n",
       "      <td>70:A7:41:DC:8E:55</td>\n",
       "      <td>1</td>\n",
       "      <td>17</td>\n",
       "      <td>RP42</td>\n",
       "      <td>-70</td>\n",
       "      <td>DTE Staff</td>\n",
       "      <td>2024-10-23T07:16:55.9024935Z</td>\n",
       "      <td>2454</td>\n",
       "      <td>1202</td>\n",
       "    </tr>\n",
       "    <tr>\n",
       "      <th>327</th>\n",
       "      <td>72:A7:41:9C:77:CD</td>\n",
       "      <td>11</td>\n",
       "      <td>18</td>\n",
       "      <td>RP3</td>\n",
       "      <td>-64</td>\n",
       "      <td>DTE Student</td>\n",
       "      <td>2024-10-17T09:11:24.3090027Z</td>\n",
       "      <td>300</td>\n",
       "      <td>1749</td>\n",
       "    </tr>\n",
       "    <tr>\n",
       "      <th>790</th>\n",
       "      <td>70:A7:41:DC:77:CD</td>\n",
       "      <td>11</td>\n",
       "      <td>5</td>\n",
       "      <td>RP13</td>\n",
       "      <td>-74</td>\n",
       "      <td>DTE Staff</td>\n",
       "      <td>2024-10-23T03:08:58.387339Z</td>\n",
       "      <td>759</td>\n",
       "      <td>1749</td>\n",
       "    </tr>\n",
       "  </tbody>\n",
       "</table>\n",
       "</div>"
      ],
      "text/plain": [
       "                  bssid  channel  iteration reference_point  rssi  \\\n",
       "1456  72:A7:41:9C:77:CD       11          1            RP35   -49   \n",
       "1265  70:A7:41:DC:8E:55        1         17            RP33   -91   \n",
       "824   70:A7:41:DC:77:CD       11         18            RP14   -66   \n",
       "584   70:A7:41:DC:77:CD       11         17             RP8   -68   \n",
       "1363  70:A7:41:DC:77:CD       11         16            RP34   -46   \n",
       "62    72:A7:41:9C:8E:55        1         13            RP30   -91   \n",
       "1589  70:A7:41:DC:8E:55        1          7            RP38   -80   \n",
       "1893  70:A7:41:DC:8E:55        1         17            RP42   -70   \n",
       "327   72:A7:41:9C:77:CD       11         18             RP3   -64   \n",
       "790   70:A7:41:DC:77:CD       11          5            RP13   -74   \n",
       "\n",
       "             ssid                          time    xr    yr  \n",
       "1456  DTE Student  2024-10-23T08:45:55.4447115Z  1678  1037  \n",
       "1265    DTE Staff  2024-10-23T09:03:00.9753853Z  1449  1037  \n",
       "824     DTE Staff  2024-10-23T03:22:23.4403879Z   759  1948  \n",
       "584     DTE Staff  2024-10-17T09:59:02.1430941Z   529  1749  \n",
       "1363    DTE Staff  2024-10-23T09:12:10.7500781Z  1449  1202  \n",
       "62        DTE IoT  2024-10-17T10:34:12.6214057Z   989  1202  \n",
       "1589    DTE Staff  2024-10-23T06:47:41.2670918Z  1908  1202  \n",
       "1893    DTE Staff  2024-10-23T07:16:55.9024935Z  2454  1202  \n",
       "327   DTE Student  2024-10-17T09:11:24.3090027Z   300  1749  \n",
       "790     DTE Staff   2024-10-23T03:08:58.387339Z   759  1749  "
      ]
     },
     "execution_count": 7,
     "metadata": {},
     "output_type": "execute_result"
    }
   ],
   "source": [
    "df.sample(10)"
   ]
  },
  {
   "cell_type": "code",
   "execution_count": 8,
   "metadata": {},
   "outputs": [
    {
     "name": "stdout",
     "output_type": "stream",
     "text": [
      "<class 'pandas.core.frame.DataFrame'>\n",
      "RangeIndex: 1984 entries, 0 to 1983\n",
      "Data columns (total 9 columns):\n",
      " #   Column           Non-Null Count  Dtype \n",
      "---  ------           --------------  ----- \n",
      " 0   bssid            1984 non-null   object\n",
      " 1   channel          1984 non-null   int64 \n",
      " 2   iteration        1984 non-null   int64 \n",
      " 3   reference_point  1984 non-null   object\n",
      " 4   rssi             1984 non-null   int64 \n",
      " 5   ssid             1984 non-null   object\n",
      " 6   time             1984 non-null   object\n",
      " 7   xr               1984 non-null   int64 \n",
      " 8   yr               1984 non-null   int64 \n",
      "dtypes: int64(5), object(4)\n",
      "memory usage: 139.6+ KB\n"
     ]
    }
   ],
   "source": [
    "df.info()"
   ]
  },
  {
   "cell_type": "code",
   "execution_count": 9,
   "metadata": {},
   "outputs": [
    {
     "data": {
      "text/plain": [
       "array(['70:A7:41:DC:8E:55', '72:A7:41:9C:8E:55', '70:A7:41:DC:77:CD',\n",
       "       '72:A7:41:9C:77:CD'], dtype=object)"
      ]
     },
     "execution_count": 9,
     "metadata": {},
     "output_type": "execute_result"
    }
   ],
   "source": [
    "df['bssid'].unique()"
   ]
  },
  {
   "cell_type": "code",
   "execution_count": 10,
   "metadata": {},
   "outputs": [],
   "source": [
    "df['ssid'] = df['ssid'].replace('DTE IoT', 'DTE Staff')"
   ]
  },
  {
   "cell_type": "code",
   "execution_count": 11,
   "metadata": {},
   "outputs": [
    {
     "data": {
      "text/plain": [
       "array(['DTE Staff', 'DTE Student'], dtype=object)"
      ]
     },
     "execution_count": 11,
     "metadata": {},
     "output_type": "execute_result"
    }
   ],
   "source": [
    "df['ssid'].unique()"
   ]
  },
  {
   "cell_type": "code",
   "execution_count": 12,
   "metadata": {},
   "outputs": [
    {
     "data": {
      "text/plain": [
       "array(['RP29', 'RP30', 'RP37', 'RP4', 'RP5', 'RP6', 'RP1', 'RP10', 'RP2',\n",
       "       'RP3', 'RP7', 'RP8', 'RP9', 'RP11', 'RP12', 'RP13', 'RP14', 'RP15',\n",
       "       'RP16', 'RP17', 'RP18', 'RP19', 'RP20', 'RP31', 'RP32', 'RP33',\n",
       "       'RP34', 'RP35', 'RP36', 'RP38', 'RP39', 'RP40', 'RP41', 'RP42',\n",
       "       'RP49'], dtype=object)"
      ]
     },
     "execution_count": 12,
     "metadata": {},
     "output_type": "execute_result"
    }
   ],
   "source": [
    "df['reference_point'].unique()"
   ]
  },
  {
   "cell_type": "code",
   "execution_count": 13,
   "metadata": {},
   "outputs": [
    {
     "name": "stdout",
     "output_type": "stream",
     "text": [
      "                              time reference_point  iteration         ssid  \\\n",
      "0     2024-10-17T08:38:31.9525624Z             RP1          3  DTE Student   \n",
      "1     2024-10-17T08:39:38.6086206Z             RP1          1    DTE Staff   \n",
      "2     2024-10-17T08:39:45.8326223Z             RP1          1  DTE Student   \n",
      "3     2024-10-17T08:40:03.1574484Z             RP1          2  DTE Student   \n",
      "4     2024-10-17T08:40:08.1701809Z             RP1          2    DTE Staff   \n",
      "...                            ...             ...        ...          ...   \n",
      "1979  2024-10-23T09:33:08.6450442Z            RP31         19    DTE Staff   \n",
      "1980  2024-10-23T09:33:24.6120935Z            RP31         20  DTE Student   \n",
      "1981  2024-10-23T09:33:27.6923272Z            RP31         20    DTE Staff   \n",
      "1982  2024-10-23T09:33:30.6587622Z            RP31         20    DTE Staff   \n",
      "1983  2024-10-23T09:33:33.6198492Z            RP31         20    DTE Staff   \n",
      "\n",
      "                  bssid  channel    xr    yr  rssi_ap_digilab  rssi_ap_dosen  \n",
      "0     72:a7:41:9c:77:cd       11   300  1368            -64.0            NaN  \n",
      "1     70:a7:41:dc:77:cd       11   300  1368            -63.0            NaN  \n",
      "2     72:a7:41:9c:77:cd       11   300  1368            -63.0            NaN  \n",
      "3     72:a7:41:9c:77:cd       11   300  1368            -64.0            NaN  \n",
      "4     70:a7:41:dc:77:cd       11   300  1368            -65.0            NaN  \n",
      "...                 ...      ...   ...   ...              ...            ...  \n",
      "1979  72:a7:41:9c:8e:55        1  1219  1037              NaN          -83.0  \n",
      "1980  72:a7:41:9c:77:cd       11  1219  1037            -43.0            NaN  \n",
      "1981  70:a7:41:dc:77:cd       11  1219  1037            -43.0            NaN  \n",
      "1982  70:a7:41:dc:8e:55        1  1219  1037              NaN          -83.0  \n",
      "1983  72:a7:41:9c:8e:55        1  1219  1037              NaN          -84.0  \n",
      "\n",
      "[1984 rows x 10 columns]\n"
     ]
    }
   ],
   "source": [
    "import pandas as pd\n",
    "\n",
    "df['bssid'] = df['bssid'].str.lower()\n",
    "\n",
    "# BSSID mapping for classification\n",
    "bssid_classification = {\n",
    "    '70:a7:41:dc:8e:55': 'ap_dosen',     # Dosen (Staff)\n",
    "    '72:a7:41:9c:8e:55': 'ap_dosen',     # Dosen (Student)\n",
    "    '70:a7:41:dc:77:cd': 'ap_digilab',   # Digilab (Staff)\n",
    "    '72:a7:41:9c:77:cd': 'ap_digilab'    # Digilab (Student)\n",
    "}\n",
    "\n",
    "# Map BSSID to AP classification\n",
    "df['AP_class'] = df['bssid'].map(bssid_classification)\n",
    "\n",
    "# Check if there are any NaN values (due to missing BSSID mapping)\n",
    "missing_bssid = df[df['AP_class'].isna()]\n",
    "if not missing_bssid.empty:\n",
    "    print(\"These BSSIDs were not classified:\")\n",
    "    print(missing_bssid)\n",
    "\n",
    "# Pivot the dataframe\n",
    "pivot_df = df.pivot_table(index=['time', 'reference_point', 'iteration', 'ssid', 'bssid', 'channel', 'xr', 'yr'], columns='AP_class', values='rssi').reset_index()\n",
    "\n",
    "# Rename columns for clarity\n",
    "pivot_df.columns = ['time', 'reference_point', 'iteration', 'ssid', 'bssid', 'channel', 'xr', 'yr'] + ['rssi_' + col for col in pivot_df.columns[8:]]\n",
    "\n",
    "# Show the result\n",
    "print(pivot_df)"
   ]
  },
  {
   "cell_type": "code",
   "execution_count": 14,
   "metadata": {},
   "outputs": [
    {
     "data": {
      "text/html": [
       "<div>\n",
       "<style scoped>\n",
       "    .dataframe tbody tr th:only-of-type {\n",
       "        vertical-align: middle;\n",
       "    }\n",
       "\n",
       "    .dataframe tbody tr th {\n",
       "        vertical-align: top;\n",
       "    }\n",
       "\n",
       "    .dataframe thead th {\n",
       "        text-align: right;\n",
       "    }\n",
       "</style>\n",
       "<table border=\"1\" class=\"dataframe\">\n",
       "  <thead>\n",
       "    <tr style=\"text-align: right;\">\n",
       "      <th></th>\n",
       "      <th>time</th>\n",
       "      <th>reference_point</th>\n",
       "      <th>iteration</th>\n",
       "      <th>ssid</th>\n",
       "      <th>bssid</th>\n",
       "      <th>channel</th>\n",
       "      <th>xr</th>\n",
       "      <th>yr</th>\n",
       "      <th>rssi_ap_digilab</th>\n",
       "      <th>rssi_ap_dosen</th>\n",
       "    </tr>\n",
       "  </thead>\n",
       "  <tbody>\n",
       "    <tr>\n",
       "      <th>5</th>\n",
       "      <td>2024-10-17T08:40:27.6315854Z</td>\n",
       "      <td>RP1</td>\n",
       "      <td>3</td>\n",
       "      <td>DTE Student</td>\n",
       "      <td>72:a7:41:9c:77:cd</td>\n",
       "      <td>11</td>\n",
       "      <td>300</td>\n",
       "      <td>1368</td>\n",
       "      <td>-62.0</td>\n",
       "      <td>NaN</td>\n",
       "    </tr>\n",
       "    <tr>\n",
       "      <th>545</th>\n",
       "      <td>2024-10-17T10:32:51.3198226Z</td>\n",
       "      <td>RP30</td>\n",
       "      <td>10</td>\n",
       "      <td>DTE Staff</td>\n",
       "      <td>70:a7:41:dc:77:cd</td>\n",
       "      <td>11</td>\n",
       "      <td>989</td>\n",
       "      <td>1202</td>\n",
       "      <td>-42.0</td>\n",
       "      <td>NaN</td>\n",
       "    </tr>\n",
       "    <tr>\n",
       "      <th>1284</th>\n",
       "      <td>2024-10-23T07:15:33.4996029Z</td>\n",
       "      <td>RP42</td>\n",
       "      <td>14</td>\n",
       "      <td>DTE Student</td>\n",
       "      <td>72:a7:41:9c:77:cd</td>\n",
       "      <td>11</td>\n",
       "      <td>2454</td>\n",
       "      <td>1202</td>\n",
       "      <td>-61.0</td>\n",
       "      <td>NaN</td>\n",
       "    </tr>\n",
       "    <tr>\n",
       "      <th>624</th>\n",
       "      <td>2024-10-17T10:42:50.5685733Z</td>\n",
       "      <td>RP37</td>\n",
       "      <td>10</td>\n",
       "      <td>DTE Student</td>\n",
       "      <td>72:a7:41:9c:77:cd</td>\n",
       "      <td>11</td>\n",
       "      <td>1908</td>\n",
       "      <td>1037</td>\n",
       "      <td>-52.0</td>\n",
       "      <td>NaN</td>\n",
       "    </tr>\n",
       "    <tr>\n",
       "      <th>632</th>\n",
       "      <td>2024-10-17T10:43:44.5315951Z</td>\n",
       "      <td>RP37</td>\n",
       "      <td>12</td>\n",
       "      <td>DTE Student</td>\n",
       "      <td>72:a7:41:9c:77:cd</td>\n",
       "      <td>11</td>\n",
       "      <td>1908</td>\n",
       "      <td>1037</td>\n",
       "      <td>-53.0</td>\n",
       "      <td>NaN</td>\n",
       "    </tr>\n",
       "    <tr>\n",
       "      <th>900</th>\n",
       "      <td>2024-10-23T03:36:01.6214617Z</td>\n",
       "      <td>RP16</td>\n",
       "      <td>4</td>\n",
       "      <td>DTE Student</td>\n",
       "      <td>72:a7:41:9c:77:cd</td>\n",
       "      <td>11</td>\n",
       "      <td>989</td>\n",
       "      <td>1368</td>\n",
       "      <td>-56.0</td>\n",
       "      <td>NaN</td>\n",
       "    </tr>\n",
       "    <tr>\n",
       "      <th>1608</th>\n",
       "      <td>2024-10-23T08:48:11.5122601Z</td>\n",
       "      <td>RP35</td>\n",
       "      <td>6</td>\n",
       "      <td>DTE Staff</td>\n",
       "      <td>72:a7:41:9c:8e:55</td>\n",
       "      <td>1</td>\n",
       "      <td>1678</td>\n",
       "      <td>1037</td>\n",
       "      <td>NaN</td>\n",
       "      <td>-82.0</td>\n",
       "    </tr>\n",
       "    <tr>\n",
       "      <th>514</th>\n",
       "      <td>2024-10-17T10:29:37.3696287Z</td>\n",
       "      <td>RP30</td>\n",
       "      <td>2</td>\n",
       "      <td>DTE Student</td>\n",
       "      <td>72:a7:41:9c:77:cd</td>\n",
       "      <td>11</td>\n",
       "      <td>989</td>\n",
       "      <td>1202</td>\n",
       "      <td>-42.0</td>\n",
       "      <td>NaN</td>\n",
       "    </tr>\n",
       "    <tr>\n",
       "      <th>1932</th>\n",
       "      <td>2024-10-23T09:28:15.0604651Z</td>\n",
       "      <td>RP31</td>\n",
       "      <td>8</td>\n",
       "      <td>DTE Staff</td>\n",
       "      <td>70:a7:41:dc:77:cd</td>\n",
       "      <td>11</td>\n",
       "      <td>1219</td>\n",
       "      <td>1037</td>\n",
       "      <td>-44.0</td>\n",
       "      <td>NaN</td>\n",
       "    </tr>\n",
       "    <tr>\n",
       "      <th>1212</th>\n",
       "      <td>2024-10-23T07:02:28.8180086Z</td>\n",
       "      <td>RP36</td>\n",
       "      <td>15</td>\n",
       "      <td>DTE Staff</td>\n",
       "      <td>72:a7:41:9c:8e:55</td>\n",
       "      <td>1</td>\n",
       "      <td>1678</td>\n",
       "      <td>1202</td>\n",
       "      <td>NaN</td>\n",
       "      <td>-86.0</td>\n",
       "    </tr>\n",
       "  </tbody>\n",
       "</table>\n",
       "</div>"
      ],
      "text/plain": [
       "                              time reference_point  iteration         ssid  \\\n",
       "5     2024-10-17T08:40:27.6315854Z             RP1          3  DTE Student   \n",
       "545   2024-10-17T10:32:51.3198226Z            RP30         10    DTE Staff   \n",
       "1284  2024-10-23T07:15:33.4996029Z            RP42         14  DTE Student   \n",
       "624   2024-10-17T10:42:50.5685733Z            RP37         10  DTE Student   \n",
       "632   2024-10-17T10:43:44.5315951Z            RP37         12  DTE Student   \n",
       "900   2024-10-23T03:36:01.6214617Z            RP16          4  DTE Student   \n",
       "1608  2024-10-23T08:48:11.5122601Z            RP35          6    DTE Staff   \n",
       "514   2024-10-17T10:29:37.3696287Z            RP30          2  DTE Student   \n",
       "1932  2024-10-23T09:28:15.0604651Z            RP31          8    DTE Staff   \n",
       "1212  2024-10-23T07:02:28.8180086Z            RP36         15    DTE Staff   \n",
       "\n",
       "                  bssid  channel    xr    yr  rssi_ap_digilab  rssi_ap_dosen  \n",
       "5     72:a7:41:9c:77:cd       11   300  1368            -62.0            NaN  \n",
       "545   70:a7:41:dc:77:cd       11   989  1202            -42.0            NaN  \n",
       "1284  72:a7:41:9c:77:cd       11  2454  1202            -61.0            NaN  \n",
       "624   72:a7:41:9c:77:cd       11  1908  1037            -52.0            NaN  \n",
       "632   72:a7:41:9c:77:cd       11  1908  1037            -53.0            NaN  \n",
       "900   72:a7:41:9c:77:cd       11   989  1368            -56.0            NaN  \n",
       "1608  72:a7:41:9c:8e:55        1  1678  1037              NaN          -82.0  \n",
       "514   72:a7:41:9c:77:cd       11   989  1202            -42.0            NaN  \n",
       "1932  70:a7:41:dc:77:cd       11  1219  1037            -44.0            NaN  \n",
       "1212  72:a7:41:9c:8e:55        1  1678  1202              NaN          -86.0  "
      ]
     },
     "execution_count": 14,
     "metadata": {},
     "output_type": "execute_result"
    }
   ],
   "source": [
    "pivot_df.sample(10)"
   ]
  },
  {
   "cell_type": "code",
   "execution_count": 15,
   "metadata": {},
   "outputs": [
    {
     "name": "stdout",
     "output_type": "stream",
     "text": [
      "Data saved to ui_data.csv\n",
      "Date range: 2024-10-17T08:38:31.9525624Z to 2024-10-23T09:33:33.6198492Z\n",
      "Total records: 1984\n",
      "X-coordinate range: 300 to 2454\n",
      "Y-coordinate range: 1037 to 2130\n"
     ]
    }
   ],
   "source": [
    "# Save the final dataframe\n",
    "pivot_df.to_csv('ui_data.csv', index=False)\n",
    "print(f\"Data saved to {'ui_data.csv'}\")\n",
    "\n",
    "# Print some statistics\n",
    "print(f\"Date range: {pivot_df['time'].min()} to {pivot_df['time'].max()}\")\n",
    "print(f\"Total records: {len(pivot_df)}\")\n",
    "print(f\"X-coordinate range: {pivot_df['xr'].min()} to {pivot_df['xr'].max()}\")\n",
    "print(f\"Y-coordinate range: {pivot_df['yr'].min()} to {pivot_df['yr'].max()}\")"
   ]
  }
 ],
 "metadata": {
  "kernelspec": {
   "display_name": "venv",
   "language": "python",
   "name": "python3"
  },
  "language_info": {
   "codemirror_mode": {
    "name": "ipython",
    "version": 3
   },
   "file_extension": ".py",
   "mimetype": "text/x-python",
   "name": "python",
   "nbconvert_exporter": "python",
   "pygments_lexer": "ipython3",
   "version": "3.12.1"
  }
 },
 "nbformat": 4,
 "nbformat_minor": 2
}
