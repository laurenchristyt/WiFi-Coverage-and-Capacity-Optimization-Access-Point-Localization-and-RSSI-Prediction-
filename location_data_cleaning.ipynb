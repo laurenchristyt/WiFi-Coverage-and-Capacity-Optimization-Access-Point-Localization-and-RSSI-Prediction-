{
 "cells": [
  {
   "cell_type": "markdown",
   "metadata": {},
   "source": [
    "# Import Libraries"
   ]
  },
  {
   "cell_type": "code",
   "execution_count": 8,
   "metadata": {},
   "outputs": [
    {
     "name": "stdout",
     "output_type": "stream",
     "text": [
      "Note: you may need to restart the kernel to use updated packages.Requirement already satisfied: scikit-learn in c:\\python312\\lib\\site-packages (1.6.1)\n",
      "Requirement already satisfied: numpy>=1.19.5 in c:\\python312\\lib\\site-packages (from scikit-learn) (1.26.4)\n",
      "Requirement already satisfied: scipy>=1.6.0 in c:\\python312\\lib\\site-packages (from scikit-learn) (1.14.0)\n",
      "Requirement already satisfied: joblib>=1.2.0 in c:\\python312\\lib\\site-packages (from scikit-learn) (1.4.2)\n",
      "Requirement already satisfied: threadpoolctl>=3.1.0 in c:\\python312\\lib\\site-packages (from scikit-learn) (3.5.0)\n",
      "\n"
     ]
    },
    {
     "name": "stderr",
     "output_type": "stream",
     "text": [
      "\n",
      "[notice] A new release of pip is available: 24.3.1 -> 25.0.1\n",
      "[notice] To update, run: python.exe -m pip install --upgrade pip\n"
     ]
    },
    {
     "name": "stdout",
     "output_type": "stream",
     "text": [
      "Requirement already satisfied: python-dotenv in c:\\python312\\lib\\site-packages (1.0.1)Note: you may need to restart the kernel to use updated packages.\n",
      "\n"
     ]
    },
    {
     "name": "stderr",
     "output_type": "stream",
     "text": [
      "\n",
      "[notice] A new release of pip is available: 24.3.1 -> 25.0.1\n",
      "[notice] To update, run: python.exe -m pip install --upgrade pip\n"
     ]
    },
    {
     "name": "stdout",
     "output_type": "stream",
     "text": [
      "Requirement already satisfied: influxdb-client in c:\\python312\\lib\\site-packages (1.48.0)Note: you may need to restart the kernel to use updated packages.\n",
      "\n",
      "Requirement already satisfied: reactivex>=4.0.4 in c:\\python312\\lib\\site-packages (from influxdb-client) (4.0.4)\n",
      "Requirement already satisfied: certifi>=14.05.14 in c:\\python312\\lib\\site-packages (from influxdb-client) (2023.11.17)\n",
      "Requirement already satisfied: python-dateutil>=2.5.3 in c:\\python312\\lib\\site-packages (from influxdb-client) (2.8.2)\n",
      "Requirement already satisfied: setuptools>=21.0.0 in c:\\python312\\lib\\site-packages (from influxdb-client) (69.1.1)\n",
      "Requirement already satisfied: urllib3>=1.26.0 in c:\\python312\\lib\\site-packages (from influxdb-client) (2.1.0)\n",
      "Requirement already satisfied: six>=1.5 in c:\\python312\\lib\\site-packages (from python-dateutil>=2.5.3->influxdb-client) (1.16.0)\n",
      "Requirement already satisfied: typing-extensions<5.0.0,>=4.1.1 in c:\\python312\\lib\\site-packages (from reactivex>=4.0.4->influxdb-client) (4.10.0)\n"
     ]
    },
    {
     "name": "stderr",
     "output_type": "stream",
     "text": [
      "\n",
      "[notice] A new release of pip is available: 24.3.1 -> 25.0.1\n",
      "[notice] To update, run: python.exe -m pip install --upgrade pip\n"
     ]
    },
    {
     "name": "stdout",
     "output_type": "stream",
     "text": [
      "Requirement already satisfied: pandas in c:\\python312\\lib\\site-packages (2.2.2)\n",
      "Requirement already satisfied: numpy>=1.26.0 in c:\\python312\\lib\\site-packages (from pandas) (1.26.4)\n",
      "Requirement already satisfied: python-dateutil>=2.8.2 in c:\\python312\\lib\\site-packages (from pandas) (2.8.2)\n",
      "Requirement already satisfied: pytz>=2020.1 in c:\\python312\\lib\\site-packages (from pandas) (2024.1)\n",
      "Requirement already satisfied: tzdata>=2022.7 in c:\\python312\\lib\\site-packages (from pandas) (2024.1)\n",
      "Requirement already satisfied: six>=1.5 in c:\\python312\\lib\\site-packages (from python-dateutil>=2.8.2->pandas) (1.16.0)\n",
      "Note: you may need to restart the kernel to use updated packages.\n"
     ]
    },
    {
     "name": "stderr",
     "output_type": "stream",
     "text": [
      "\n",
      "[notice] A new release of pip is available: 24.3.1 -> 25.0.1\n",
      "[notice] To update, run: python.exe -m pip install --upgrade pip\n"
     ]
    },
    {
     "name": "stdout",
     "output_type": "stream",
     "text": [
      "Requirement already satisfied: pyyaml in c:\\python312\\lib\\site-packages (6.0.1)\n",
      "Note: you may need to restart the kernel to use updated packages.\n"
     ]
    },
    {
     "name": "stderr",
     "output_type": "stream",
     "text": [
      "\n",
      "[notice] A new release of pip is available: 24.3.1 -> 25.0.1\n",
      "[notice] To update, run: python.exe -m pip install --upgrade pip\n"
     ]
    },
    {
     "name": "stdout",
     "output_type": "stream",
     "text": [
      "Requirement already satisfied: numpy in c:\\python312\\lib\\site-packages (1.26.4)\n",
      "Note: you may need to restart the kernel to use updated packages.\n"
     ]
    },
    {
     "name": "stderr",
     "output_type": "stream",
     "text": [
      "\n",
      "[notice] A new release of pip is available: 24.3.1 -> 25.0.1\n",
      "[notice] To update, run: python.exe -m pip install --upgrade pip\n"
     ]
    },
    {
     "name": "stdout",
     "output_type": "stream",
     "text": [
      "Requirement already satisfied: matplotlib in c:\\python312\\lib\\site-packages (3.9.1)\n",
      "Requirement already satisfied: contourpy>=1.0.1 in c:\\python312\\lib\\site-packages (from matplotlib) (1.2.1)\n",
      "Requirement already satisfied: cycler>=0.10 in c:\\python312\\lib\\site-packages (from matplotlib) (0.12.1)\n",
      "Requirement already satisfied: fonttools>=4.22.0 in c:\\python312\\lib\\site-packages (from matplotlib) (4.53.1)\n",
      "Requirement already satisfied: kiwisolver>=1.3.1 in c:\\python312\\lib\\site-packages (from matplotlib) (1.4.5)\n",
      "Requirement already satisfied: numpy>=1.23 in c:\\python312\\lib\\site-packages (from matplotlib) (1.26.4)\n",
      "Requirement already satisfied: packaging>=20.0 in c:\\python312\\lib\\site-packages (from matplotlib) (23.2)\n",
      "Requirement already satisfied: pillow>=8 in c:\\python312\\lib\\site-packages (from matplotlib) (10.4.0)\n",
      "Requirement already satisfied: pyparsing>=2.3.1 in c:\\python312\\lib\\site-packages (from matplotlib) (3.1.2)\n",
      "Requirement already satisfied: python-dateutil>=2.7 in c:\\python312\\lib\\site-packages (from matplotlib) (2.8.2)\n",
      "Requirement already satisfied: six>=1.5 in c:\\python312\\lib\\site-packages (from python-dateutil>=2.7->matplotlib) (1.16.0)\n",
      "Note: you may need to restart the kernel to use updated packages.\n"
     ]
    },
    {
     "name": "stderr",
     "output_type": "stream",
     "text": [
      "\n",
      "[notice] A new release of pip is available: 24.3.1 -> 25.0.1\n",
      "[notice] To update, run: python.exe -m pip install --upgrade pip\n"
     ]
    }
   ],
   "source": [
    "%pip install --upgrade scikit-learn\n",
    "%pip install python-dotenv\n",
    "%pip install influxdb-client\n",
    "%pip install pandas\n",
    "%pip install pyyaml\n",
    "%pip install numpy\n",
    "%pip install matplotlib"
   ]
  },
  {
   "cell_type": "code",
   "execution_count": 9,
   "metadata": {},
   "outputs": [
    {
     "data": {
      "text/plain": [
       "False"
      ]
     },
     "execution_count": 9,
     "metadata": {},
     "output_type": "execute_result"
    }
   ],
   "source": [
    "import io\n",
    "import os\n",
    "import time\n",
    "import yaml\n",
    "import warnings\n",
    "import pandas as pd\n",
    "import json\n",
    "import hashlib\n",
    "import matplotlib.pyplot as plt\n",
    "import csv\n",
    "from influxdb_client import InfluxDBClient\n",
    "from influxdb_client.client.warnings import MissingPivotFunction\n",
    "from dotenv import load_dotenv\n",
    "\n",
    "import numpy as np\n",
    "from functools import partial\n",
    "\n",
    "warnings.simplefilter(\"ignore\", MissingPivotFunction)\n",
    "\n",
    "load_dotenv()"
   ]
  },
  {
   "cell_type": "markdown",
   "metadata": {},
   "source": [
    "# Import Dataset"
   ]
  },
  {
   "cell_type": "code",
   "execution_count": 10,
   "metadata": {},
   "outputs": [],
   "source": [
    "df_digi = pd.read_csv('Data/dataset.csv') #Digi Luar, Selasar\n",
    "df_dosen = pd.read_csv('Data/dosen.csv') # Ruangan Dosen, Selasar Luar\n",
    "df_sc = pd.read_csv('Data/student_corner.csv') # Student Corner\n",
    "df_eltron = pd.read_csv('Data/half eltron.csv') # Half Eltron\n",
    "df_selasar = pd.read_csv('Data/selasar.csv') # Selasar dalem + Digi dalem\n",
    "df_final = pd.read_csv('Data/final.csv') # Half eltron, belakang sc"
   ]
  },
  {
   "cell_type": "markdown",
   "metadata": {},
   "source": [
    "# df_digi cleaning"
   ]
  },
  {
   "cell_type": "code",
   "execution_count": 11,
   "metadata": {},
   "outputs": [
    {
     "name": "stderr",
     "output_type": "stream",
     "text": [
      "<>:6: SyntaxWarning: invalid escape sequence '\\d'\n",
      "<>:6: SyntaxWarning: invalid escape sequence '\\d'\n",
      "C:\\Users\\laure\\AppData\\Local\\Temp\\ipykernel_20952\\2382845006.py:6: SyntaxWarning: invalid escape sequence '\\d'\n",
      "  frequency_df['rp_number'] = frequency_df['reference_point'].str.extract('(\\d+)').astype(int)\n"
     ]
    },
    {
     "data": {
      "image/png": "[encoded data removed]",
      "text/plain": [
       "<Figure size 1200x600 with 1 Axes>"
      ]
     },
     "metadata": {},
     "output_type": "display_data"
    }
   ],
   "source": [
    "frequency = df_digi['reference_point'].value_counts()\n",
    "\n",
    "frequency_df = frequency.reset_index()\n",
    "frequency_df.columns = ['reference_point', 'frequency']\n",
    "\n",
    "frequency_df['rp_number'] = frequency_df['reference_point'].str.extract('(\\d+)').astype(int)\n",
    "frequency_df = frequency_df.sort_values(by='rp_number')\n",
    "\n",
    "plt.figure(figsize=(12, 6))\n",
    "plt.bar(frequency_df['reference_point'], frequency_df['frequency'], color='skyblue')\n",
    "plt.xlabel('Reference Point (RP)')\n",
    "plt.ylabel('Frequency')\n",
    "plt.title('Frequency of Reference Points')\n",
    "plt.xticks(rotation=45)  # Rotate x-axis labels for better readability\n",
    "plt.tight_layout()  # Adjust layout to prevent clipping of labels\n",
    "plt.show()\n"
   ]
  },
  {
   "cell_type": "code",
   "execution_count": 12,
   "metadata": {},
   "outputs": [],
   "source": [
    "df_digi = df_digi[~df_digi[\"reference_point\"].str.contains(\"RP49\", na=False)]"
   ]
  },
  {
   "cell_type": "code",
   "execution_count": 13,
   "metadata": {},
   "outputs": [
    {
     "data": {
      "text/plain": [
       "Index(['Unnamed: 0', 'bssid', 'channel', 'host', 'iteration',\n",
       "       'reference_point', 'rssi', 'ssid', 'time', 'topic', 'xr', 'yr'],\n",
       "      dtype='object')"
      ]
     },
     "execution_count": 13,
     "metadata": {},
     "output_type": "execute_result"
    }
   ],
   "source": [
    "df_digi.columns"
   ]
  },
  {
   "cell_type": "markdown",
   "metadata": {},
   "source": [
    "# df_dosen cleaning"
   ]
  },
  {
   "cell_type": "code",
   "execution_count": 14,
   "metadata": {},
   "outputs": [
    {
     "name": "stderr",
     "output_type": "stream",
     "text": [
      "<>:6: SyntaxWarning: invalid escape sequence '\\d'\n",
      "<>:6: SyntaxWarning: invalid escape sequence '\\d'\n",
      "C:\\Users\\laure\\AppData\\Local\\Temp\\ipykernel_20952\\2140566733.py:6: SyntaxWarning: invalid escape sequence '\\d'\n",
      "  frequency_df['rp_number'] = frequency_df['reference_point'].str.extract('(\\d+)').astype(int)\n"
     ]
    },
    {
     "data": {
      "image/png": "[encoded data removed]",
      "text/plain": [
       "<Figure size 1200x600 with 1 Axes>"
      ]
     },
     "metadata": {},
     "output_type": "display_data"
    }
   ],
   "source": [
    "frequency = df_dosen['reference_point'].value_counts()\n",
    "\n",
    "frequency_df = frequency.reset_index()\n",
    "frequency_df.columns = ['reference_point', 'frequency']\n",
    "\n",
    "frequency_df['rp_number'] = frequency_df['reference_point'].str.extract('(\\d+)').astype(int)\n",
    "frequency_df = frequency_df.sort_values(by='rp_number')\n",
    "\n",
    "plt.figure(figsize=(12, 6))\n",
    "plt.bar(frequency_df['reference_point'], frequency_df['frequency'], color='skyblue')\n",
    "plt.xlabel('Reference Point (RP)')\n",
    "plt.ylabel('Frequency')\n",
    "plt.title('Frequency of Reference Points')\n",
    "plt.xticks(rotation=45)  # Rotate x-axis labels for better readability\n",
    "plt.tight_layout()  # Adjust layout to prevent clipping of labels\n",
    "plt.show()\n"
   ]
  },
  {
   "cell_type": "code",
   "execution_count": 15,
   "metadata": {},
   "outputs": [],
   "source": [
    "df_dosen = df_dosen[~df_dosen[\"reference_point\"].str.contains(\"RP49\", na=False)] # ruang pak pur"
   ]
  },
  {
   "cell_type": "markdown",
   "metadata": {},
   "source": [
    "# df_sc cleaning"
   ]
  },
  {
   "cell_type": "code",
   "execution_count": 16,
   "metadata": {},
   "outputs": [
    {
     "name": "stderr",
     "output_type": "stream",
     "text": [
      "<>:6: SyntaxWarning: invalid escape sequence '\\d'\n",
      "<>:6: SyntaxWarning: invalid escape sequence '\\d'\n",
      "C:\\Users\\laure\\AppData\\Local\\Temp\\ipykernel_20952\\3388794265.py:6: SyntaxWarning: invalid escape sequence '\\d'\n",
      "  frequency_df['rp_number'] = frequency_df['reference_point'].str.extract('(\\d+)').astype(int)\n"
     ]
    },
    {
     "data": {
      "image/png": "[encoded data removed]",
      "text/plain": [
       "<Figure size 1200x600 with 1 Axes>"
      ]
     },
     "metadata": {},
     "output_type": "display_data"
    }
   ],
   "source": [
    "frequency = df_sc['reference_point'].value_counts()\n",
    "\n",
    "frequency_df = frequency.reset_index()\n",
    "frequency_df.columns = ['reference_point', 'frequency']\n",
    "\n",
    "frequency_df['rp_number'] = frequency_df['reference_point'].str.extract('(\\d+)').astype(int)\n",
    "frequency_df = frequency_df.sort_values(by='rp_number')\n",
    "\n",
    "plt.figure(figsize=(12, 6))\n",
    "plt.bar(frequency_df['reference_point'], frequency_df['frequency'], color='skyblue')\n",
    "plt.xlabel('Reference Point (RP)')\n",
    "plt.ylabel('Frequency')\n",
    "plt.title('Frequency of Reference Points')\n",
    "plt.xticks(rotation=45)  # Rotate x-axis labels for better readability\n",
    "plt.tight_layout()  # Adjust layout to prevent clipping of labels\n",
    "plt.show()\n"
   ]
  },
  {
   "cell_type": "code",
   "execution_count": 17,
   "metadata": {},
   "outputs": [],
   "source": [
    "df_sc = df_sc[~df_sc[\"reference_point\"].str.contains(\"RP31\", na=False)]"
   ]
  },
  {
   "cell_type": "markdown",
   "metadata": {},
   "source": [
    "# df_eltron cleaning"
   ]
  },
  {
   "cell_type": "code",
   "execution_count": 18,
   "metadata": {},
   "outputs": [
    {
     "name": "stderr",
     "output_type": "stream",
     "text": [
      "<>:6: SyntaxWarning: invalid escape sequence '\\d'\n",
      "<>:6: SyntaxWarning: invalid escape sequence '\\d'\n",
      "C:\\Users\\laure\\AppData\\Local\\Temp\\ipykernel_20952\\4245151233.py:6: SyntaxWarning: invalid escape sequence '\\d'\n",
      "  frequency_df['rp_number'] = frequency_df['reference_point'].str.extract('(\\d+)').astype(int)\n"
     ]
    },
    {
     "data": {
      "image/png": "[encoded data removed]",
      "text/plain": [
       "<Figure size 1200x600 with 1 Axes>"
      ]
     },
     "metadata": {},
     "output_type": "display_data"
    }
   ],
   "source": [
    "frequency = df_eltron['reference_point'].value_counts()\n",
    "\n",
    "frequency_df = frequency.reset_index()\n",
    "frequency_df.columns = ['reference_point', 'frequency']\n",
    "\n",
    "frequency_df['rp_number'] = frequency_df['reference_point'].str.extract('(\\d+)').astype(int)\n",
    "frequency_df = frequency_df.sort_values(by='rp_number')\n",
    "\n",
    "plt.figure(figsize=(12, 6))\n",
    "plt.bar(frequency_df['reference_point'], frequency_df['frequency'], color='skyblue')\n",
    "plt.xlabel('Reference Point (RP)')\n",
    "plt.ylabel('Frequency')\n",
    "plt.title('Frequency of Reference Points')\n",
    "plt.xticks(rotation=45)  # Rotate x-axis labels for better readability\n",
    "plt.tight_layout()  # Adjust layout to prevent clipping of labels\n",
    "plt.show()\n"
   ]
  },
  {
   "cell_type": "code",
   "execution_count": 19,
   "metadata": {},
   "outputs": [],
   "source": [
    "df_eltron = df_eltron[~df_eltron[\"reference_point\"].str.contains(\"RP90\", na=False)]\n",
    "df_eltron = df_eltron[~df_eltron[\"reference_point\"].str.contains(\"RP94\", na=False)]"
   ]
  },
  {
   "cell_type": "markdown",
   "metadata": {},
   "source": [
    "# df_selasar cleaning"
   ]
  },
  {
   "cell_type": "code",
   "execution_count": 20,
   "metadata": {},
   "outputs": [
    {
     "name": "stderr",
     "output_type": "stream",
     "text": [
      "<>:6: SyntaxWarning: invalid escape sequence '\\d'\n",
      "<>:6: SyntaxWarning: invalid escape sequence '\\d'\n",
      "C:\\Users\\laure\\AppData\\Local\\Temp\\ipykernel_20952\\1957272588.py:6: SyntaxWarning: invalid escape sequence '\\d'\n",
      "  frequency_df['rp_number'] = frequency_df['reference_point'].str.extract('(\\d+)').astype(int)\n"
     ]
    },
    {
     "data": {
      "image/png": "[encoded data removed]",
      "text/plain": [
       "<Figure size 1200x600 with 1 Axes>"
      ]
     },
     "metadata": {},
     "output_type": "display_data"
    }
   ],
   "source": [
    "frequency = df_selasar['reference_point'].value_counts()\n",
    "\n",
    "frequency_df = frequency.reset_index()\n",
    "frequency_df.columns = ['reference_point', 'frequency']\n",
    "\n",
    "frequency_df['rp_number'] = frequency_df['reference_point'].str.extract('(\\d+)').astype(int)\n",
    "frequency_df = frequency_df.sort_values(by='rp_number')\n",
    "\n",
    "plt.figure(figsize=(12, 6))\n",
    "plt.bar(frequency_df['reference_point'], frequency_df['frequency'], color='skyblue')\n",
    "plt.xlabel('Reference Point (RP)')\n",
    "plt.ylabel('Frequency')\n",
    "plt.title('Frequency of Reference Points')\n",
    "plt.xticks(rotation=45)  # Rotate x-axis labels for better readability\n",
    "plt.tight_layout()  # Adjust layout to prevent clipping of labels\n",
    "plt.show()\n"
   ]
  },
  {
   "cell_type": "code",
   "execution_count": 21,
   "metadata": {},
   "outputs": [],
   "source": [
    "# Cleaning from invalid data\n",
    "df_selasar = df_selasar[~df_selasar[\"reference_point\"].str.contains(\"RP50\", na=False)]\n",
    "df_selasar = df_selasar[~df_selasar[\"reference_point\"].str.contains(\"RP94\", na=False)]\n",
    "df_selasar = df_selasar[~df_selasar[\"reference_point\"].str.contains(\"RP49\", na=False)]"
   ]
  },
  {
   "cell_type": "markdown",
   "metadata": {},
   "source": [
    "# df_final cleaning"
   ]
  },
  {
   "cell_type": "code",
   "execution_count": 22,
   "metadata": {},
   "outputs": [
    {
     "name": "stderr",
     "output_type": "stream",
     "text": [
      "<>:6: SyntaxWarning: invalid escape sequence '\\d'\n",
      "<>:6: SyntaxWarning: invalid escape sequence '\\d'\n",
      "C:\\Users\\laure\\AppData\\Local\\Temp\\ipykernel_20952\\2648192120.py:6: SyntaxWarning: invalid escape sequence '\\d'\n",
      "  frequency_df['rp_number'] = frequency_df['reference_point'].str.extract('(\\d+)').astype(int)\n"
     ]
    },
    {
     "data": {
      "image/png": "[encoded data removed]",
      "text/plain": [
       "<Figure size 1200x600 with 1 Axes>"
      ]
     },
     "metadata": {},
     "output_type": "display_data"
    }
   ],
   "source": [
    "frequency = df_final['reference_point'].value_counts()\n",
    "\n",
    "frequency_df = frequency.reset_index()\n",
    "frequency_df.columns = ['reference_point', 'frequency']\n",
    "\n",
    "frequency_df['rp_number'] = frequency_df['reference_point'].str.extract('(\\d+)').astype(int)\n",
    "frequency_df = frequency_df.sort_values(by='rp_number')\n",
    "\n",
    "plt.figure(figsize=(12, 6))\n",
    "plt.bar(frequency_df['reference_point'], frequency_df['frequency'], color='skyblue')\n",
    "plt.xlabel('Reference Point (RP)')\n",
    "plt.ylabel('Frequency')\n",
    "plt.title('Frequency of Reference Points')\n",
    "plt.xticks(rotation=45)  # Rotate x-axis labels for better readability\n",
    "plt.tight_layout()  # Adjust layout to prevent clipping of labels\n",
    "plt.show()"
   ]
  },
  {
   "cell_type": "code",
   "execution_count": 23,
   "metadata": {},
   "outputs": [],
   "source": [
    "df = pd.concat([df_digi, df_dosen, df_sc, df_eltron, df_selasar, df_final], ignore_index=True)"
   ]
  },
  {
   "cell_type": "code",
   "execution_count": 24,
   "metadata": {},
   "outputs": [
    {
     "data": {
      "text/html": [
       "<div>\n",
       "<style scoped>\n",
       "    .dataframe tbody tr th:only-of-type {\n",
       "        vertical-align: middle;\n",
       "    }\n",
       "\n",
       "    .dataframe tbody tr th {\n",
       "        vertical-align: top;\n",
       "    }\n",
       "\n",
       "    .dataframe thead th {\n",
       "        text-align: right;\n",
       "    }\n",
       "</style>\n",
       "<table border=\"1\" class=\"dataframe\">\n",
       "  <thead>\n",
       "    <tr style=\"text-align: right;\">\n",
       "      <th></th>\n",
       "      <th>Unnamed: 0</th>\n",
       "      <th>bssid</th>\n",
       "      <th>channel</th>\n",
       "      <th>host</th>\n",
       "      <th>iteration</th>\n",
       "      <th>reference_point</th>\n",
       "      <th>rssi</th>\n",
       "      <th>ssid</th>\n",
       "      <th>time</th>\n",
       "      <th>topic</th>\n",
       "      <th>xr</th>\n",
       "      <th>yr</th>\n",
       "    </tr>\n",
       "  </thead>\n",
       "  <tbody>\n",
       "    <tr>\n",
       "      <th>0</th>\n",
       "      <td>NaN</td>\n",
       "      <td>70:A7:41:DC:8E:55</td>\n",
       "      <td>1</td>\n",
       "      <td>LAUREN</td>\n",
       "      <td>1</td>\n",
       "      <td>RP29</td>\n",
       "      <td>-92</td>\n",
       "      <td>DTE Staff</td>\n",
       "      <td>2024-10-17T10:19:36.0867022Z</td>\n",
       "      <td>esp/topic</td>\n",
       "      <td>989</td>\n",
       "      <td>1037</td>\n",
       "    </tr>\n",
       "    <tr>\n",
       "      <th>1</th>\n",
       "      <td>NaN</td>\n",
       "      <td>70:A7:41:DC:8E:55</td>\n",
       "      <td>1</td>\n",
       "      <td>LAUREN</td>\n",
       "      <td>10</td>\n",
       "      <td>RP29</td>\n",
       "      <td>-94</td>\n",
       "      <td>DTE Staff</td>\n",
       "      <td>2024-10-17T10:23:26.6782315Z</td>\n",
       "      <td>esp/topic</td>\n",
       "      <td>989</td>\n",
       "      <td>1037</td>\n",
       "    </tr>\n",
       "    <tr>\n",
       "      <th>2</th>\n",
       "      <td>NaN</td>\n",
       "      <td>70:A7:41:DC:8E:55</td>\n",
       "      <td>1</td>\n",
       "      <td>LAUREN</td>\n",
       "      <td>11</td>\n",
       "      <td>RP29</td>\n",
       "      <td>-94</td>\n",
       "      <td>DTE Staff</td>\n",
       "      <td>2024-10-17T10:23:51.8041404Z</td>\n",
       "      <td>esp/topic</td>\n",
       "      <td>989</td>\n",
       "      <td>1037</td>\n",
       "    </tr>\n",
       "    <tr>\n",
       "      <th>3</th>\n",
       "      <td>NaN</td>\n",
       "      <td>70:A7:41:DC:8E:55</td>\n",
       "      <td>1</td>\n",
       "      <td>LAUREN</td>\n",
       "      <td>12</td>\n",
       "      <td>RP29</td>\n",
       "      <td>-90</td>\n",
       "      <td>DTE Staff</td>\n",
       "      <td>2024-10-17T10:24:13.6954786Z</td>\n",
       "      <td>esp/topic</td>\n",
       "      <td>989</td>\n",
       "      <td>1037</td>\n",
       "    </tr>\n",
       "    <tr>\n",
       "      <th>4</th>\n",
       "      <td>NaN</td>\n",
       "      <td>70:A7:41:DC:8E:55</td>\n",
       "      <td>1</td>\n",
       "      <td>LAUREN</td>\n",
       "      <td>13</td>\n",
       "      <td>RP29</td>\n",
       "      <td>-91</td>\n",
       "      <td>DTE Staff</td>\n",
       "      <td>2024-10-17T10:24:38.6661326Z</td>\n",
       "      <td>esp/topic</td>\n",
       "      <td>989</td>\n",
       "      <td>1037</td>\n",
       "    </tr>\n",
       "  </tbody>\n",
       "</table>\n",
       "</div>"
      ],
      "text/plain": [
       "   Unnamed: 0              bssid  channel    host  iteration reference_point  \\\n",
       "0         NaN  70:A7:41:DC:8E:55        1  LAUREN          1            RP29   \n",
       "1         NaN  70:A7:41:DC:8E:55        1  LAUREN         10            RP29   \n",
       "2         NaN  70:A7:41:DC:8E:55        1  LAUREN         11            RP29   \n",
       "3         NaN  70:A7:41:DC:8E:55        1  LAUREN         12            RP29   \n",
       "4         NaN  70:A7:41:DC:8E:55        1  LAUREN         13            RP29   \n",
       "\n",
       "   rssi       ssid                          time      topic   xr    yr  \n",
       "0   -92  DTE Staff  2024-10-17T10:19:36.0867022Z  esp/topic  989  1037  \n",
       "1   -94  DTE Staff  2024-10-17T10:23:26.6782315Z  esp/topic  989  1037  \n",
       "2   -94  DTE Staff  2024-10-17T10:23:51.8041404Z  esp/topic  989  1037  \n",
       "3   -90  DTE Staff  2024-10-17T10:24:13.6954786Z  esp/topic  989  1037  \n",
       "4   -91  DTE Staff  2024-10-17T10:24:38.6661326Z  esp/topic  989  1037  "
      ]
     },
     "execution_count": 24,
     "metadata": {},
     "output_type": "execute_result"
    }
   ],
   "source": [
    "df.head()"
   ]
  },
  {
   "cell_type": "code",
   "execution_count": 25,
   "metadata": {},
   "outputs": [
    {
     "data": {
      "text/plain": [
       "Index(['Unnamed: 0', 'bssid', 'channel', 'host', 'iteration',\n",
       "       'reference_point', 'rssi', 'ssid', 'time', 'topic', 'xr', 'yr'],\n",
       "      dtype='object')"
      ]
     },
     "execution_count": 25,
     "metadata": {},
     "output_type": "execute_result"
    }
   ],
   "source": [
    "df.columns"
   ]
  },
  {
   "cell_type": "markdown",
   "metadata": {},
   "source": [
    "## Drop Unnecessary Columns"
   ]
  },
  {
   "cell_type": "code",
   "execution_count": 26,
   "metadata": {},
   "outputs": [],
   "source": [
    "df = df.drop(columns=['Unnamed: 0','host', 'topic'])"
   ]
  },
  {
   "cell_type": "code",
   "execution_count": 27,
   "metadata": {},
   "outputs": [
    {
     "data": {
      "text/html": [
       "<div>\n",
       "<style scoped>\n",
       "    .dataframe tbody tr th:only-of-type {\n",
       "        vertical-align: middle;\n",
       "    }\n",
       "\n",
       "    .dataframe tbody tr th {\n",
       "        vertical-align: top;\n",
       "    }\n",
       "\n",
       "    .dataframe thead th {\n",
       "        text-align: right;\n",
       "    }\n",
       "</style>\n",
       "<table border=\"1\" class=\"dataframe\">\n",
       "  <thead>\n",
       "    <tr style=\"text-align: right;\">\n",
       "      <th></th>\n",
       "      <th>bssid</th>\n",
       "      <th>channel</th>\n",
       "      <th>iteration</th>\n",
       "      <th>reference_point</th>\n",
       "      <th>rssi</th>\n",
       "      <th>ssid</th>\n",
       "      <th>time</th>\n",
       "      <th>xr</th>\n",
       "      <th>yr</th>\n",
       "    </tr>\n",
       "  </thead>\n",
       "  <tbody>\n",
       "    <tr>\n",
       "      <th>5794</th>\n",
       "      <td>72:A7:41:9C:77:CD</td>\n",
       "      <td>6</td>\n",
       "      <td>6</td>\n",
       "      <td>RP44</td>\n",
       "      <td>-62</td>\n",
       "      <td>DTE Student</td>\n",
       "      <td>2025-03-11T07:01:30.3674011Z</td>\n",
       "      <td>1168</td>\n",
       "      <td>1567</td>\n",
       "    </tr>\n",
       "    <tr>\n",
       "      <th>5065</th>\n",
       "      <td>70:A7:41:DC:77:CD</td>\n",
       "      <td>6</td>\n",
       "      <td>1</td>\n",
       "      <td>RP99</td>\n",
       "      <td>-71</td>\n",
       "      <td>DTE Staff</td>\n",
       "      <td>2025-03-03T08:29:18.4415765Z</td>\n",
       "      <td>720</td>\n",
       "      <td>639</td>\n",
       "    </tr>\n",
       "    <tr>\n",
       "      <th>1318</th>\n",
       "      <td>72:A7:41:9C:8E:55</td>\n",
       "      <td>1</td>\n",
       "      <td>11</td>\n",
       "      <td>RP34</td>\n",
       "      <td>-93</td>\n",
       "      <td>DTE IoT</td>\n",
       "      <td>2024-10-23T09:10:06.2780767Z</td>\n",
       "      <td>1449</td>\n",
       "      <td>1202</td>\n",
       "    </tr>\n",
       "    <tr>\n",
       "      <th>4445</th>\n",
       "      <td>72:A7:41:9C:8E:55</td>\n",
       "      <td>11</td>\n",
       "      <td>8</td>\n",
       "      <td>RP109</td>\n",
       "      <td>-88</td>\n",
       "      <td>DTE IoT</td>\n",
       "      <td>2025-03-03T07:44:00.814437Z</td>\n",
       "      <td>1120</td>\n",
       "      <td>639</td>\n",
       "    </tr>\n",
       "    <tr>\n",
       "      <th>4522</th>\n",
       "      <td>70:A7:41:DC:8E:55</td>\n",
       "      <td>11</td>\n",
       "      <td>3</td>\n",
       "      <td>RP95</td>\n",
       "      <td>-87</td>\n",
       "      <td>DTE Staff</td>\n",
       "      <td>2025-03-03T07:32:36.7983893Z</td>\n",
       "      <td>520</td>\n",
       "      <td>838</td>\n",
       "    </tr>\n",
       "    <tr>\n",
       "      <th>99</th>\n",
       "      <td>72:A7:41:9C:8E:55</td>\n",
       "      <td>1</td>\n",
       "      <td>15</td>\n",
       "      <td>RP37</td>\n",
       "      <td>-79</td>\n",
       "      <td>DTE IoT</td>\n",
       "      <td>2024-10-17T10:45:24.7508214Z</td>\n",
       "      <td>1908</td>\n",
       "      <td>1037</td>\n",
       "    </tr>\n",
       "    <tr>\n",
       "      <th>3895</th>\n",
       "      <td>72:A7:41:9C:77:CD</td>\n",
       "      <td>1</td>\n",
       "      <td>5</td>\n",
       "      <td>RP113</td>\n",
       "      <td>-63</td>\n",
       "      <td>DTE Student</td>\n",
       "      <td>2025-02-25T03:36:30.2582926Z</td>\n",
       "      <td>1290</td>\n",
       "      <td>469</td>\n",
       "    </tr>\n",
       "    <tr>\n",
       "      <th>2672</th>\n",
       "      <td>70:A7:41:DC:8E:55</td>\n",
       "      <td>11</td>\n",
       "      <td>18</td>\n",
       "      <td>RP64</td>\n",
       "      <td>-88</td>\n",
       "      <td>DTE Staff</td>\n",
       "      <td>2025-03-01T03:49:01.0428553Z</td>\n",
       "      <td>1826</td>\n",
       "      <td>1567</td>\n",
       "    </tr>\n",
       "    <tr>\n",
       "      <th>1643</th>\n",
       "      <td>72:A7:41:9C:8E:55</td>\n",
       "      <td>1</td>\n",
       "      <td>20</td>\n",
       "      <td>RP39</td>\n",
       "      <td>-73</td>\n",
       "      <td>DTE IoT</td>\n",
       "      <td>2024-10-23T07:52:25.9690703Z</td>\n",
       "      <td>2224</td>\n",
       "      <td>1037</td>\n",
       "    </tr>\n",
       "    <tr>\n",
       "      <th>6499</th>\n",
       "      <td>72:A7:41:9C:77:CD</td>\n",
       "      <td>6</td>\n",
       "      <td>12</td>\n",
       "      <td>RP92</td>\n",
       "      <td>-63</td>\n",
       "      <td>DTE Student</td>\n",
       "      <td>2025-03-12T04:47:49.6063702Z</td>\n",
       "      <td>520</td>\n",
       "      <td>299</td>\n",
       "    </tr>\n",
       "  </tbody>\n",
       "</table>\n",
       "</div>"
      ],
      "text/plain": [
       "                  bssid  channel  iteration reference_point  rssi  \\\n",
       "5794  72:A7:41:9C:77:CD        6          6            RP44   -62   \n",
       "5065  70:A7:41:DC:77:CD        6          1            RP99   -71   \n",
       "1318  72:A7:41:9C:8E:55        1         11            RP34   -93   \n",
       "4445  72:A7:41:9C:8E:55       11          8           RP109   -88   \n",
       "4522  70:A7:41:DC:8E:55       11          3            RP95   -87   \n",
       "99    72:A7:41:9C:8E:55        1         15            RP37   -79   \n",
       "3895  72:A7:41:9C:77:CD        1          5           RP113   -63   \n",
       "2672  70:A7:41:DC:8E:55       11         18            RP64   -88   \n",
       "1643  72:A7:41:9C:8E:55        1         20            RP39   -73   \n",
       "6499  72:A7:41:9C:77:CD        6         12            RP92   -63   \n",
       "\n",
       "             ssid                          time    xr    yr  \n",
       "5794  DTE Student  2025-03-11T07:01:30.3674011Z  1168  1567  \n",
       "5065    DTE Staff  2025-03-03T08:29:18.4415765Z   720   639  \n",
       "1318      DTE IoT  2024-10-23T09:10:06.2780767Z  1449  1202  \n",
       "4445      DTE IoT   2025-03-03T07:44:00.814437Z  1120   639  \n",
       "4522    DTE Staff  2025-03-03T07:32:36.7983893Z   520   838  \n",
       "99        DTE IoT  2024-10-17T10:45:24.7508214Z  1908  1037  \n",
       "3895  DTE Student  2025-02-25T03:36:30.2582926Z  1290   469  \n",
       "2672    DTE Staff  2025-03-01T03:49:01.0428553Z  1826  1567  \n",
       "1643      DTE IoT  2024-10-23T07:52:25.9690703Z  2224  1037  \n",
       "6499  DTE Student  2025-03-12T04:47:49.6063702Z   520   299  "
      ]
     },
     "execution_count": 27,
     "metadata": {},
     "output_type": "execute_result"
    }
   ],
   "source": [
    "df.sample(10)"
   ]
  },
  {
   "cell_type": "code",
   "execution_count": 28,
   "metadata": {},
   "outputs": [
    {
     "name": "stdout",
     "output_type": "stream",
     "text": [
      "<class 'pandas.core.frame.DataFrame'>\n",
      "RangeIndex: 6596 entries, 0 to 6595\n",
      "Data columns (total 9 columns):\n",
      " #   Column           Non-Null Count  Dtype \n",
      "---  ------           --------------  ----- \n",
      " 0   bssid            6596 non-null   object\n",
      " 1   channel          6596 non-null   int64 \n",
      " 2   iteration        6596 non-null   int64 \n",
      " 3   reference_point  6596 non-null   object\n",
      " 4   rssi             6596 non-null   int64 \n",
      " 5   ssid             6596 non-null   object\n",
      " 6   time             6596 non-null   object\n",
      " 7   xr               6596 non-null   int64 \n",
      " 8   yr               6596 non-null   int64 \n",
      "dtypes: int64(5), object(4)\n",
      "memory usage: 463.9+ KB\n"
     ]
    }
   ],
   "source": [
    "df.info()"
   ]
  },
  {
   "cell_type": "code",
   "execution_count": 29,
   "metadata": {},
   "outputs": [
    {
     "data": {
      "text/plain": [
       "array(['70:A7:41:DC:8E:55', '72:A7:41:9C:8E:55', '70:A7:41:DC:77:CD',\n",
       "       '72:A7:41:9C:77:CD'], dtype=object)"
      ]
     },
     "execution_count": 29,
     "metadata": {},
     "output_type": "execute_result"
    }
   ],
   "source": [
    "df['bssid'].unique()"
   ]
  },
  {
   "cell_type": "code",
   "execution_count": 30,
   "metadata": {},
   "outputs": [],
   "source": [
    "df['ssid'] = df['ssid'].replace('DTE IoT', 'DTE Staff')"
   ]
  },
  {
   "cell_type": "code",
   "execution_count": 31,
   "metadata": {},
   "outputs": [
    {
     "data": {
      "text/plain": [
       "array(['DTE Staff', 'DTE Student'], dtype=object)"
      ]
     },
     "execution_count": 31,
     "metadata": {},
     "output_type": "execute_result"
    }
   ],
   "source": [
    "df['ssid'].unique()"
   ]
  },
  {
   "cell_type": "code",
   "execution_count": 32,
   "metadata": {},
   "outputs": [
    {
     "data": {
      "text/plain": [
       "array(['RP29', 'RP30', 'RP37', 'RP4', 'RP5', 'RP6', 'RP1', 'RP10', 'RP2',\n",
       "       'RP3', 'RP7', 'RP8', 'RP9', 'RP11', 'RP12', 'RP13', 'RP14', 'RP15',\n",
       "       'RP16', 'RP17', 'RP18', 'RP19', 'RP20', 'RP31', 'RP32', 'RP33',\n",
       "       'RP34', 'RP35', 'RP36', 'RP38', 'RP39', 'RP40', 'RP41', 'RP42',\n",
       "       'RP53', 'RP54', 'RP55', 'RP56', 'RP58', 'RP59', 'RP60', 'RP61',\n",
       "       'RP63', 'RP64', 'RP66', 'RP67', 'RP68', 'RP69', 'RP70', 'RP71',\n",
       "       'RP72', 'RP74', 'RP75', 'RP76', 'RP77', 'RP80', 'RP81', 'RP82',\n",
       "       'RP85', 'RP88', 'RP89', 'RP90', 'RP113', 'RP114', 'RP115', 'RP118',\n",
       "       'RP119', 'RP120', 'RP100', 'RP103', 'RP104', 'RP105', 'RP108',\n",
       "       'RP109', 'RP28', 'RP93', 'RP95', 'RP98', 'RP99', 'RP110', 'RP23',\n",
       "       'RP25', 'RP44', 'RP27', 'RP43', 'RP21', 'RP24', 'RP47', 'RP51',\n",
       "       'RP26', 'RP22', 'RP45', 'RP46', 'RP52', 'RP102', 'RP107', 'RP111',\n",
       "       'RP112', 'RP116', 'RP117', 'RP48', 'RP49', 'RP50', 'RP92', 'RP94',\n",
       "       'RP97'], dtype=object)"
      ]
     },
     "execution_count": 32,
     "metadata": {},
     "output_type": "execute_result"
    }
   ],
   "source": [
    "df['reference_point'].unique()"
   ]
  },
  {
   "cell_type": "code",
   "execution_count": 33,
   "metadata": {},
   "outputs": [
    {
     "name": "stdout",
     "output_type": "stream",
     "text": [
      "                              time reference_point  iteration         ssid  \\\n",
      "0     2024-10-17T08:38:31.9525624Z             RP1          3  DTE Student   \n",
      "1     2024-10-17T08:39:38.6086206Z             RP1          1    DTE Staff   \n",
      "2     2024-10-17T08:39:45.8326223Z             RP1          1  DTE Student   \n",
      "3     2024-10-17T08:40:03.1574484Z             RP1          2  DTE Student   \n",
      "4     2024-10-17T08:40:08.1701809Z             RP1          2    DTE Staff   \n",
      "...                            ...             ...        ...          ...   \n",
      "6591  2025-03-12T07:28:26.6223918Z           RP116         19    DTE Staff   \n",
      "6592  2025-03-12T07:28:42.0753577Z           RP116         20    DTE Staff   \n",
      "6593  2025-03-12T07:28:45.1003856Z           RP116         20  DTE Student   \n",
      "6594  2025-03-12T07:28:48.0910943Z           RP116         20    DTE Staff   \n",
      "6595  2025-03-12T07:28:51.1667837Z           RP116         20    DTE Staff   \n",
      "\n",
      "                  bssid  channel    xr    yr  rssi_ap_digilab  rssi_ap_dosen  \n",
      "0     72:a7:41:9c:77:cd       11   300  1368            -64.0            NaN  \n",
      "1     70:a7:41:dc:77:cd       11   300  1368            -63.0            NaN  \n",
      "2     72:a7:41:9c:77:cd       11   300  1368            -63.0            NaN  \n",
      "3     72:a7:41:9c:77:cd       11   300  1368            -64.0            NaN  \n",
      "4     70:a7:41:dc:77:cd       11   300  1368            -65.0            NaN  \n",
      "...                 ...      ...   ...   ...              ...            ...  \n",
      "6591  70:a7:41:dc:8e:55       11  1520   134              NaN          -82.0  \n",
      "6592  70:a7:41:dc:77:cd        6  1520   134            -65.0            NaN  \n",
      "6593  72:a7:41:9c:77:cd        6  1520   134            -65.0            NaN  \n",
      "6594  72:a7:41:9c:8e:55       11  1520   134              NaN          -84.0  \n",
      "6595  70:a7:41:dc:8e:55       11  1520   134              NaN          -85.0  \n",
      "\n",
      "[6596 rows x 10 columns]\n"
     ]
    }
   ],
   "source": [
    "import pandas as pd\n",
    "\n",
    "df['bssid'] = df['bssid'].str.lower()\n",
    "\n",
    "# BSSID mapping for classification\n",
    "bssid_classification = {\n",
    "    '70:a7:41:dc:8e:55': 'ap_dosen',     # Dosen (Staff)\n",
    "    '72:a7:41:9c:8e:55': 'ap_dosen',     # Dosen (Student)\n",
    "    '70:a7:41:dc:77:cd': 'ap_digilab',   # Digilab (Staff)\n",
    "    '72:a7:41:9c:77:cd': 'ap_digilab'    # Digilab (Student)\n",
    "}\n",
    "\n",
    "# Map BSSID to AP classification\n",
    "df['AP_class'] = df['bssid'].map(bssid_classification)\n",
    "\n",
    "# Check if there are any NaN values (due to missing BSSID mapping)\n",
    "missing_bssid = df[df['AP_class'].isna()]\n",
    "if not missing_bssid.empty:\n",
    "    print(\"These BSSIDs were not classified:\")\n",
    "    print(missing_bssid)\n",
    "\n",
    "# Pivot the dataframe\n",
    "pivot_df = df.pivot_table(index=['time', 'reference_point', 'iteration', 'ssid', 'bssid', 'channel', 'xr', 'yr'], columns='AP_class', values='rssi').reset_index()\n",
    "\n",
    "# Rename columns for clarity\n",
    "pivot_df.columns = ['time', 'reference_point', 'iteration', 'ssid', 'bssid', 'channel', 'xr', 'yr'] + ['rssi_' + col for col in pivot_df.columns[8:]]\n",
    "\n",
    "# Show the result\n",
    "print(pivot_df)"
   ]
  },
  {
   "cell_type": "code",
   "execution_count": 34,
   "metadata": {},
   "outputs": [
    {
     "data": {
      "text/html": [
       "<div>\n",
       "<style scoped>\n",
       "    .dataframe tbody tr th:only-of-type {\n",
       "        vertical-align: middle;\n",
       "    }\n",
       "\n",
       "    .dataframe tbody tr th {\n",
       "        vertical-align: top;\n",
       "    }\n",
       "\n",
       "    .dataframe thead th {\n",
       "        text-align: right;\n",
       "    }\n",
       "</style>\n",
       "<table border=\"1\" class=\"dataframe\">\n",
       "  <thead>\n",
       "    <tr style=\"text-align: right;\">\n",
       "      <th></th>\n",
       "      <th>time</th>\n",
       "      <th>reference_point</th>\n",
       "      <th>iteration</th>\n",
       "      <th>ssid</th>\n",
       "      <th>bssid</th>\n",
       "      <th>channel</th>\n",
       "      <th>xr</th>\n",
       "      <th>yr</th>\n",
       "      <th>rssi_ap_digilab</th>\n",
       "      <th>rssi_ap_dosen</th>\n",
       "    </tr>\n",
       "  </thead>\n",
       "  <tbody>\n",
       "    <tr>\n",
       "      <th>4404</th>\n",
       "      <td>2025-03-03T07:08:47.1793261Z</td>\n",
       "      <td>RP110</td>\n",
       "      <td>9</td>\n",
       "      <td>DTE Staff</td>\n",
       "      <td>70:a7:41:dc:77:cd</td>\n",
       "      <td>6</td>\n",
       "      <td>1120</td>\n",
       "      <td>838</td>\n",
       "      <td>-37.0</td>\n",
       "      <td>NaN</td>\n",
       "    </tr>\n",
       "    <tr>\n",
       "      <th>761</th>\n",
       "      <td>2024-10-23T03:01:33.3981067Z</td>\n",
       "      <td>RP12</td>\n",
       "      <td>14</td>\n",
       "      <td>DTE Staff</td>\n",
       "      <td>70:a7:41:dc:77:cd</td>\n",
       "      <td>11</td>\n",
       "      <td>759</td>\n",
       "      <td>1567</td>\n",
       "      <td>-61.0</td>\n",
       "      <td>NaN</td>\n",
       "    </tr>\n",
       "    <tr>\n",
       "      <th>3294</th>\n",
       "      <td>2025-03-01T02:35:16.9305696Z</td>\n",
       "      <td>RP67</td>\n",
       "      <td>15</td>\n",
       "      <td>DTE Staff</td>\n",
       "      <td>70:a7:41:dc:8e:55</td>\n",
       "      <td>11</td>\n",
       "      <td>1826</td>\n",
       "      <td>2130</td>\n",
       "      <td>NaN</td>\n",
       "      <td>-94.0</td>\n",
       "    </tr>\n",
       "    <tr>\n",
       "      <th>2361</th>\n",
       "      <td>2025-02-25T04:29:22.4353575Z</td>\n",
       "      <td>RP120</td>\n",
       "      <td>6</td>\n",
       "      <td>DTE Staff</td>\n",
       "      <td>70:a7:41:dc:8e:55</td>\n",
       "      <td>11</td>\n",
       "      <td>1520</td>\n",
       "      <td>838</td>\n",
       "      <td>NaN</td>\n",
       "      <td>-79.0</td>\n",
       "    </tr>\n",
       "    <tr>\n",
       "      <th>759</th>\n",
       "      <td>2024-10-23T03:01:14.7177759Z</td>\n",
       "      <td>RP12</td>\n",
       "      <td>13</td>\n",
       "      <td>DTE Staff</td>\n",
       "      <td>70:a7:41:dc:77:cd</td>\n",
       "      <td>11</td>\n",
       "      <td>759</td>\n",
       "      <td>1567</td>\n",
       "      <td>-61.0</td>\n",
       "      <td>NaN</td>\n",
       "    </tr>\n",
       "    <tr>\n",
       "      <th>387</th>\n",
       "      <td>2024-10-17T10:07:19.3250732Z</td>\n",
       "      <td>RP9</td>\n",
       "      <td>20</td>\n",
       "      <td>DTE Student</td>\n",
       "      <td>72:a7:41:9c:77:cd</td>\n",
       "      <td>11</td>\n",
       "      <td>529</td>\n",
       "      <td>1948</td>\n",
       "      <td>-60.0</td>\n",
       "      <td>NaN</td>\n",
       "    </tr>\n",
       "    <tr>\n",
       "      <th>139</th>\n",
       "      <td>2024-10-17T09:16:33.792411Z</td>\n",
       "      <td>RP4</td>\n",
       "      <td>5</td>\n",
       "      <td>DTE Staff</td>\n",
       "      <td>70:a7:41:dc:77:cd</td>\n",
       "      <td>11</td>\n",
       "      <td>300</td>\n",
       "      <td>1948</td>\n",
       "      <td>-63.0</td>\n",
       "      <td>NaN</td>\n",
       "    </tr>\n",
       "    <tr>\n",
       "      <th>3045</th>\n",
       "      <td>2025-03-01T02:00:43.1095318Z</td>\n",
       "      <td>RP81</td>\n",
       "      <td>5</td>\n",
       "      <td>DTE Staff</td>\n",
       "      <td>72:a7:41:9c:8e:55</td>\n",
       "      <td>11</td>\n",
       "      <td>2000</td>\n",
       "      <td>639</td>\n",
       "      <td>NaN</td>\n",
       "      <td>-81.0</td>\n",
       "    </tr>\n",
       "    <tr>\n",
       "      <th>1428</th>\n",
       "      <td>2024-10-23T07:36:44.2419829Z</td>\n",
       "      <td>RP40</td>\n",
       "      <td>10</td>\n",
       "      <td>DTE Staff</td>\n",
       "      <td>70:a7:41:dc:8e:55</td>\n",
       "      <td>1</td>\n",
       "      <td>2224</td>\n",
       "      <td>1202</td>\n",
       "      <td>NaN</td>\n",
       "      <td>-82.0</td>\n",
       "    </tr>\n",
       "    <tr>\n",
       "      <th>892</th>\n",
       "      <td>2024-10-23T03:30:44.8296199Z</td>\n",
       "      <td>RP15</td>\n",
       "      <td>20</td>\n",
       "      <td>DTE Staff</td>\n",
       "      <td>70:a7:41:dc:77:cd</td>\n",
       "      <td>11</td>\n",
       "      <td>759</td>\n",
       "      <td>2130</td>\n",
       "      <td>-70.0</td>\n",
       "      <td>NaN</td>\n",
       "    </tr>\n",
       "  </tbody>\n",
       "</table>\n",
       "</div>"
      ],
      "text/plain": [
       "                              time reference_point  iteration         ssid  \\\n",
       "4404  2025-03-03T07:08:47.1793261Z           RP110          9    DTE Staff   \n",
       "761   2024-10-23T03:01:33.3981067Z            RP12         14    DTE Staff   \n",
       "3294  2025-03-01T02:35:16.9305696Z            RP67         15    DTE Staff   \n",
       "2361  2025-02-25T04:29:22.4353575Z           RP120          6    DTE Staff   \n",
       "759   2024-10-23T03:01:14.7177759Z            RP12         13    DTE Staff   \n",
       "387   2024-10-17T10:07:19.3250732Z             RP9         20  DTE Student   \n",
       "139    2024-10-17T09:16:33.792411Z             RP4          5    DTE Staff   \n",
       "3045  2025-03-01T02:00:43.1095318Z            RP81          5    DTE Staff   \n",
       "1428  2024-10-23T07:36:44.2419829Z            RP40         10    DTE Staff   \n",
       "892   2024-10-23T03:30:44.8296199Z            RP15         20    DTE Staff   \n",
       "\n",
       "                  bssid  channel    xr    yr  rssi_ap_digilab  rssi_ap_dosen  \n",
       "4404  70:a7:41:dc:77:cd        6  1120   838            -37.0            NaN  \n",
       "761   70:a7:41:dc:77:cd       11   759  1567            -61.0            NaN  \n",
       "3294  70:a7:41:dc:8e:55       11  1826  2130              NaN          -94.0  \n",
       "2361  70:a7:41:dc:8e:55       11  1520   838              NaN          -79.0  \n",
       "759   70:a7:41:dc:77:cd       11   759  1567            -61.0            NaN  \n",
       "387   72:a7:41:9c:77:cd       11   529  1948            -60.0            NaN  \n",
       "139   70:a7:41:dc:77:cd       11   300  1948            -63.0            NaN  \n",
       "3045  72:a7:41:9c:8e:55       11  2000   639              NaN          -81.0  \n",
       "1428  70:a7:41:dc:8e:55        1  2224  1202              NaN          -82.0  \n",
       "892   70:a7:41:dc:77:cd       11   759  2130            -70.0            NaN  "
      ]
     },
     "execution_count": 34,
     "metadata": {},
     "output_type": "execute_result"
    }
   ],
   "source": [
    "pivot_df.sample(10)"
   ]
  },
  {
   "cell_type": "code",
   "execution_count": 78,
   "metadata": {},
   "outputs": [
    {
     "data": {
      "text/plain": [
       "((-87.0, -70.0), (-100.0, -93.0))"
      ]
     },
     "execution_count": 78,
     "metadata": {},
     "output_type": "execute_result"
    }
   ],
   "source": [
    "# Define the reference point range (modify as needed)\n",
    "start_rp = \"RP70\"\n",
    "end_rp = \"RP72\"\n",
    "\n",
    "# Filter the pivot_dfframe to include only rows within the given reference point range\n",
    "filtered_range = pivot_df[(pivot_df['reference_point'] >= start_rp) & (pivot_df['reference_point'] <= end_rp)]\n",
    "\n",
    "# Compute the range (min and max) of RSSI values separately for rssi_ap_digilab and rssi_ap_dosen\n",
    "rssi_digilab_range = (filtered_range['rssi_ap_digilab'].min(), filtered_range['rssi_ap_digilab'].max())\n",
    "rssi_dosen_range = (filtered_range['rssi_ap_dosen'].min(), filtered_range['rssi_ap_dosen'].max())\n",
    "\n",
    "# Display results\n",
    "rssi_digilab_range, rssi_dosen_range"
   ]
  },
  {
   "cell_type": "code",
   "execution_count": 36,
   "metadata": {},
   "outputs": [
    {
     "ename": "NameError",
     "evalue": "name 'a' is not defined",
     "output_type": "error",
     "traceback": [
      "\u001b[1;31m---------------------------------------------------------------------------\u001b[0m",
      "\u001b[1;31mNameError\u001b[0m                                 Traceback (most recent call last)",
      "Cell \u001b[1;32mIn[36], line 1\u001b[0m\n\u001b[1;32m----> 1\u001b[0m \u001b[43ma\u001b[49m\n",
      "\u001b[1;31mNameError\u001b[0m: name 'a' is not defined"
     ]
    }
   ],
   "source": [
    "a"
   ]
  },
  {
   "cell_type": "code",
   "execution_count": null,
   "metadata": {},
   "outputs": [
    {
     "name": "stdout",
     "output_type": "stream",
     "text": [
      "Data saved to ui_data_2.csv\n",
      "Date range: 2024-10-17T08:38:31.9525624Z to 2025-03-12T07:28:51.1667837Z\n",
      "Total records: 6596\n",
      "X-coordinate range: 70 to 2454\n",
      "Y-coordinate range: 134 to 2130\n"
     ]
    }
   ],
   "source": [
    "# Save the final dataframe\n",
    "pivot_df.to_csv('Data/ui_data_3.csv', index=False)\n",
    "print(f\"Data saved to {'ui_data_2.csv'}\")\n",
    "\n",
    "# Print some statistics\n",
    "print(f\"Date range: {pivot_df['time'].min()} to {pivot_df['time'].max()}\")\n",
    "print(f\"Total records: {len(pivot_df)}\")\n",
    "print(f\"X-coordinate range: {pivot_df['xr'].min()} to {pivot_df['xr'].max()}\")\n",
    "print(f\"Y-coordinate range: {pivot_df['yr'].min()} to {pivot_df['yr'].max()}\")"
   ]
  }
 ],
 "metadata": {
  "kernelspec": {
   "display_name": "venv",
   "language": "python",
   "name": "python3"
  },
  "language_info": {
   "codemirror_mode": {
    "name": "ipython",
    "version": 3
   },
   "file_extension": ".py",
   "mimetype": "text/x-python",
   "name": "python",
   "nbconvert_exporter": "python",
   "pygments_lexer": "ipython3",
   "version": "3.12.1"
  }
 },
 "nbformat": 4,
 "nbformat_minor": 2
}
