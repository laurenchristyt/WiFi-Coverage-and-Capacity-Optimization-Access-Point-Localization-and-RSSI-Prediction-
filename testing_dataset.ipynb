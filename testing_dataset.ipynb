{
 "cells": [
  {
   "cell_type": "code",
   "execution_count": 14,
   "metadata": {},
   "outputs": [],
   "source": [
    "import pandas as pd"
   ]
  },
  {
   "cell_type": "code",
   "execution_count": 15,
   "metadata": {},
   "outputs": [
    {
     "data": {
      "text/plain": [
       "(6596, 10)"
      ]
     },
     "execution_count": 15,
     "metadata": {},
     "output_type": "execute_result"
    }
   ],
   "source": [
    "# Load the full dataset\n",
    "path = 'Data/ui_data_2.csv'\n",
    "data = pd.read_csv(path)\n",
    "data.shape"
   ]
  },
  {
   "cell_type": "code",
   "execution_count": 16,
   "metadata": {},
   "outputs": [],
   "source": [
    "# Fill missing RSSI values\n",
    "data['rssi_ap_digilab'] = data['rssi_ap_digilab'].fillna(-200)\n",
    "data['rssi_ap_dosen'] = data['rssi_ap_dosen'].fillna(-200)"
   ]
  },
  {
   "cell_type": "code",
   "execution_count": 17,
   "metadata": {},
   "outputs": [
    {
     "name": "stdout",
     "output_type": "stream",
     "text": [
      "Unique values in relative_position: [ 0  1 -1]\n",
      "  reference_point  relative_position\n",
      "0             RP1                  0\n",
      "1             RP1                  0\n",
      "2             RP1                  0\n",
      "3             RP1                  0\n",
      "4             RP1                  0\n"
     ]
    }
   ],
   "source": [
    "data = data[~data['reference_point'].isin(['RP74'])]\n",
    "\n",
    "# Ensure the relative_position column exists with a default numeric value (-1 for unassigned)\n",
    "data['relative_position'] = -1  # Using -1 to indicate unassigned values initially\n",
    "\n",
    "# Define reference points that should be assigned a relative position of 0\n",
    "zero_rps = (\n",
    "    list(range(1, 21)) +   # RP1-20\n",
    "    list(range(53, 57)) +  # RP53-56\n",
    "    list(range(58, 62)) +  # RP58-61\n",
    "    list(range(63, 65)) +  # RP63-64\n",
    "    list(range(66, 73)) +  # RP66-72\n",
    "    list(range(75, 78)) +  # RP75-77\n",
    "    list(range(80, 89)) +  # RP80-88\n",
    "    list(range(113, 116)) +  # RP113-115\n",
    "    list(range(118, 121)) +  # RP118-120\n",
    "    list(range(93, 96)) +\n",
    "    list(range(98, 101)) +\n",
    "    list(range(103, 106)) +\n",
    "    list(range(108, 111)) \n",
    ")\n",
    "\n",
    "# Define reference points that should be assigned a relative position of 1\n",
    "one_rps = list(range(28, 43)) + [89, 90]  # RP28-42 and RP89-90\n",
    "\n",
    "\n",
    "# Convert lists to sets for faster lookup\n",
    "zero_rp_set = {f'RP{i}' for i in zero_rps}\n",
    "one_rp_set = {f'RP{i}' for i in one_rps}\n",
    "\n",
    "# Apply conditions to assign relative_position\n",
    "data['relative_position'] = data['reference_point'].apply(\n",
    "    lambda rp: 0 if rp in zero_rp_set else (1 if rp in one_rp_set else -1)\n",
    ")\n",
    "\n",
    "# Convert to integer type to ensure it's numeric\n",
    "data['relative_position'] = data['relative_position'].astype(int)\n",
    "\n",
    "# Check unique values to ensure no -1 remains\n",
    "print(\"Unique values in relative_position:\", data['relative_position'].unique())\n",
    "\n",
    "# Check the first few rows to confirm the relative_position column was added correctly\n",
    "print(data[['reference_point', 'relative_position']].head())"
   ]
  },
  {
   "cell_type": "code",
   "execution_count": 18,
   "metadata": {},
   "outputs": [],
   "source": [
    "# Define the mapping dictionary\n",
    "bssid_mapping = {\n",
    "    '70:a7:41:dc:8e:55': 1,\n",
    "    '72:a7:41:9c:8e:55': 2,\n",
    "    '70:a7:41:dc:77:cd': 3,\n",
    "    '72:a7:41:9c:77:cd': 4\n",
    "}"
   ]
  },
  {
   "cell_type": "code",
   "execution_count": 19,
   "metadata": {},
   "outputs": [
    {
     "name": "stdout",
     "output_type": "stream",
     "text": [
      "   bssid  bssid\n",
      "0      4      4\n",
      "1      3      3\n",
      "2      4      4\n",
      "3      4      4\n",
      "4      3      3\n"
     ]
    }
   ],
   "source": [
    "data['bssid'] = data['bssid'].map(bssid_mapping)\n",
    "print(data[['bssid', 'bssid']].head())"
   ]
  },
  {
   "cell_type": "code",
   "execution_count": 20,
   "metadata": {},
   "outputs": [],
   "source": [
    "# Convert the 'time' column to datetime format\n",
    "data['time'] = pd.to_datetime(data['time'])\n",
    "# Convert to seconds since the epoch\n",
    "data['time_numeric'] = data['time'].apply(lambda x: x.time())"
   ]
  },
  {
   "cell_type": "code",
   "execution_count": 21,
   "metadata": {},
   "outputs": [
    {
     "name": "stdout",
     "output_type": "stream",
     "text": [
      "0         1\n",
      "1         1\n",
      "2         1\n",
      "3         1\n",
      "4         1\n",
      "       ... \n",
      "6591    116\n",
      "6592    116\n",
      "6593    116\n",
      "6594    116\n",
      "6595    116\n",
      "Name: reference_point, Length: 6564, dtype: int32\n"
     ]
    }
   ],
   "source": [
    "# Assuming 'reference_point' is your column name in the DataFrame\n",
    "data['reference_point'] = data['reference_point'].str.replace('RP', '').astype(int)\n",
    "\n",
    "# Check the result\n",
    "print(data['reference_point'])"
   ]
  },
  {
   "cell_type": "code",
   "execution_count": 22,
   "metadata": {},
   "outputs": [
    {
     "data": {
      "text/plain": [
       "array([  1,   2,   3,   4,   5,   6,   7,   8,   9,  10,  29,  30,  37,\n",
       "        11,  12,  13,  14,  15,  16,  17,  18,  19,  20,  38,  36,  42,\n",
       "        41,  40,  39,  35,  33,  34,  32,  31, 113, 114, 115, 118, 119,\n",
       "       120,  53,  54,  55,  58,  59,  60,  77,  76,  75,  81,  82,  66,\n",
       "        67,  70,  71,  72,  56,  61,  63,  64,  68,  69,  80,  89,  85,\n",
       "        88,  90,  28, 110, 105, 100,  95, 109, 108, 103, 104,  99,  98,\n",
       "        93,  45,  44,  43,  52,  51,  46,  47,  27,  25,  23,  21,  22,\n",
       "        24,  26,  50,  49,  48, 107, 102,  94,  97,  92, 111, 112, 117,\n",
       "       116])"
      ]
     },
     "execution_count": 22,
     "metadata": {},
     "output_type": "execute_result"
    }
   ],
   "source": [
    "data['reference_point'].unique()"
   ]
  },
  {
   "cell_type": "code",
   "execution_count": 23,
   "metadata": {},
   "outputs": [],
   "source": [
    "cases = {\n",
    "    \"case1\": [1,2,3,6,7,8,9,11,12,13,14,16,17,18,19,43,44,45,48,49,85,88],\n",
    "    \"case2\": [26,27,28,29,30,31,32,33,34,35,36,37,38,39,40,41,42,43,63,68,76,77,80,81,82,85,88,89,90,105,110,115,120],\n",
    "    \"case3\": [8,12,25,30,34,37,39,50,54,64,81,88,104,110,119],\n",
    "    \"case4\": [1,2,3,4,5,10,15,20,21,22,47,52,92,93,94,95,97,102,107,111,116,117,56,61,67,72,89,90,75,80]\n",
    "}"
   ]
  },
  {
   "cell_type": "code",
   "execution_count": 24,
   "metadata": {},
   "outputs": [],
   "source": [
    "# Create filtered DataFrames\n",
    "df_case1 = data[data['reference_point'].isin(cases['case1'])]\n",
    "df_case2 = data[data['reference_point'].isin(cases['case2'])]\n",
    "df_case3 = data[data['reference_point'].isin(cases['case3'])]\n",
    "df_case4 = data[data['reference_point'].isin(cases['case4'])]"
   ]
  },
  {
   "cell_type": "code",
   "execution_count": 25,
   "metadata": {},
   "outputs": [
    {
     "data": {
      "text/html": [
       "<div>\n",
       "<style scoped>\n",
       "    .dataframe tbody tr th:only-of-type {\n",
       "        vertical-align: middle;\n",
       "    }\n",
       "\n",
       "    .dataframe tbody tr th {\n",
       "        vertical-align: top;\n",
       "    }\n",
       "\n",
       "    .dataframe thead th {\n",
       "        text-align: right;\n",
       "    }\n",
       "</style>\n",
       "<table border=\"1\" class=\"dataframe\">\n",
       "  <thead>\n",
       "    <tr style=\"text-align: right;\">\n",
       "      <th></th>\n",
       "      <th>time</th>\n",
       "      <th>reference_point</th>\n",
       "      <th>iteration</th>\n",
       "      <th>ssid</th>\n",
       "      <th>bssid</th>\n",
       "      <th>channel</th>\n",
       "      <th>xr</th>\n",
       "      <th>yr</th>\n",
       "      <th>rssi_ap_digilab</th>\n",
       "      <th>rssi_ap_dosen</th>\n",
       "      <th>relative_position</th>\n",
       "      <th>time_numeric</th>\n",
       "    </tr>\n",
       "  </thead>\n",
       "  <tbody>\n",
       "    <tr>\n",
       "      <th>6355</th>\n",
       "      <td>2025-03-12 05:03:00.032132100+00:00</td>\n",
       "      <td>111</td>\n",
       "      <td>17</td>\n",
       "      <td>DTE Student</td>\n",
       "      <td>4</td>\n",
       "      <td>6</td>\n",
       "      <td>1290</td>\n",
       "      <td>134</td>\n",
       "      <td>-61.0</td>\n",
       "      <td>-200.0</td>\n",
       "      <td>-1</td>\n",
       "      <td>05:03:00.032132</td>\n",
       "    </tr>\n",
       "    <tr>\n",
       "      <th>6359</th>\n",
       "      <td>2025-03-12 05:03:25.728986200+00:00</td>\n",
       "      <td>111</td>\n",
       "      <td>18</td>\n",
       "      <td>DTE Staff</td>\n",
       "      <td>3</td>\n",
       "      <td>6</td>\n",
       "      <td>1290</td>\n",
       "      <td>134</td>\n",
       "      <td>-61.0</td>\n",
       "      <td>-200.0</td>\n",
       "      <td>-1</td>\n",
       "      <td>05:03:25.728986</td>\n",
       "    </tr>\n",
       "    <tr>\n",
       "      <th>36</th>\n",
       "      <td>2024-10-17 08:46:44.826613400+00:00</td>\n",
       "      <td>1</td>\n",
       "      <td>18</td>\n",
       "      <td>DTE Staff</td>\n",
       "      <td>3</td>\n",
       "      <td>11</td>\n",
       "      <td>300</td>\n",
       "      <td>1368</td>\n",
       "      <td>-63.0</td>\n",
       "      <td>-200.0</td>\n",
       "      <td>0</td>\n",
       "      <td>08:46:44.826613</td>\n",
       "    </tr>\n",
       "    <tr>\n",
       "      <th>2992</th>\n",
       "      <td>2025-03-01 01:44:43.900927200+00:00</td>\n",
       "      <td>75</td>\n",
       "      <td>12</td>\n",
       "      <td>DTE Staff</td>\n",
       "      <td>3</td>\n",
       "      <td>1</td>\n",
       "      <td>1720</td>\n",
       "      <td>469</td>\n",
       "      <td>-67.0</td>\n",
       "      <td>-200.0</td>\n",
       "      <td>0</td>\n",
       "      <td>01:44:43.900927</td>\n",
       "    </tr>\n",
       "    <tr>\n",
       "      <th>5996</th>\n",
       "      <td>2025-03-12 03:34:01.856391+00:00</td>\n",
       "      <td>107</td>\n",
       "      <td>9</td>\n",
       "      <td>DTE Student</td>\n",
       "      <td>4</td>\n",
       "      <td>6</td>\n",
       "      <td>1120</td>\n",
       "      <td>299</td>\n",
       "      <td>-59.0</td>\n",
       "      <td>-200.0</td>\n",
       "      <td>-1</td>\n",
       "      <td>03:34:01.856391</td>\n",
       "    </tr>\n",
       "  </tbody>\n",
       "</table>\n",
       "</div>"
      ],
      "text/plain": [
       "                                    time  reference_point  iteration  \\\n",
       "6355 2025-03-12 05:03:00.032132100+00:00              111         17   \n",
       "6359 2025-03-12 05:03:25.728986200+00:00              111         18   \n",
       "36   2024-10-17 08:46:44.826613400+00:00                1         18   \n",
       "2992 2025-03-01 01:44:43.900927200+00:00               75         12   \n",
       "5996    2025-03-12 03:34:01.856391+00:00              107          9   \n",
       "\n",
       "             ssid  bssid  channel    xr    yr  rssi_ap_digilab  rssi_ap_dosen  \\\n",
       "6355  DTE Student      4        6  1290   134            -61.0         -200.0   \n",
       "6359    DTE Staff      3        6  1290   134            -61.0         -200.0   \n",
       "36      DTE Staff      3       11   300  1368            -63.0         -200.0   \n",
       "2992    DTE Staff      3        1  1720   469            -67.0         -200.0   \n",
       "5996  DTE Student      4        6  1120   299            -59.0         -200.0   \n",
       "\n",
       "      relative_position     time_numeric  \n",
       "6355                 -1  05:03:00.032132  \n",
       "6359                 -1  05:03:25.728986  \n",
       "36                    0  08:46:44.826613  \n",
       "2992                  0  01:44:43.900927  \n",
       "5996                 -1  03:34:01.856391  "
      ]
     },
     "execution_count": 25,
     "metadata": {},
     "output_type": "execute_result"
    }
   ],
   "source": [
    "df_case4.sample(5)"
   ]
  },
  {
   "cell_type": "code",
   "execution_count": 26,
   "metadata": {},
   "outputs": [
    {
     "data": {
      "text/plain": [
       "['case1_dataset.csv',\n",
       " 'case2_dataset.csv',\n",
       " 'case3_dataset.csv',\n",
       " 'case4_dataset.csv']"
      ]
     },
     "execution_count": 26,
     "metadata": {},
     "output_type": "execute_result"
    }
   ],
   "source": [
    "# Save each filtered dataset to a separate CSV file\n",
    "df_case1.to_csv(\"Data/case1_dataset.csv\", index=False)\n",
    "df_case2.to_csv(\"Data/case2_dataset.csv\", index=False)\n",
    "df_case3.to_csv(\"Data/case3_dataset.csv\", index=False)\n",
    "df_case4.to_csv(\"Data/case4_dataset.csv\", index=False)\n",
    "\n",
    "# Return confirmation of file names\n",
    "[\"case1_dataset.csv\", \"case2_dataset.csv\", \"case3_dataset.csv\", \"case4_dataset.csv\"]"
   ]
  }
 ],
 "metadata": {
  "kernelspec": {
   "display_name": "Python 3",
   "language": "python",
   "name": "python3"
  },
  "language_info": {
   "codemirror_mode": {
    "name": "ipython",
    "version": 3
   },
   "file_extension": ".py",
   "mimetype": "text/x-python",
   "name": "python",
   "nbconvert_exporter": "python",
   "pygments_lexer": "ipython3",
   "version": "3.12.1"
  }
 },
 "nbformat": 4,
 "nbformat_minor": 2
}
