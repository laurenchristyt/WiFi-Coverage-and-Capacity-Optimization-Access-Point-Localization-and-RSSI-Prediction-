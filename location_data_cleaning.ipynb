{
 "cells": [
  {
   "cell_type": "markdown",
   "metadata": {},
   "source": [
    "# Import Libraries"
   ]
  },
  {
   "cell_type": "code",
   "execution_count": 35,
   "metadata": {},
   "outputs": [
    {
     "name": "stdout",
     "output_type": "stream",
     "text": [
      "Requirement already satisfied: scikit-learn in c:\\python312\\lib\\site-packages (1.6.1)\n",
      "Requirement already satisfied: numpy>=1.19.5 in c:\\python312\\lib\\site-packages (from scikit-learn) (1.26.4)\n",
      "Requirement already satisfied: scipy>=1.6.0 in c:\\python312\\lib\\site-packages (from scikit-learn) (1.14.0)\n",
      "Requirement already satisfied: joblib>=1.2.0 in c:\\python312\\lib\\site-packages (from scikit-learn) (1.4.2)\n",
      "Requirement already satisfied: threadpoolctl>=3.1.0 in c:\\python312\\lib\\site-packages (from scikit-learn) (3.5.0)\n",
      "Note: you may need to restart the kernel to use updated packages.\n"
     ]
    },
    {
     "name": "stderr",
     "output_type": "stream",
     "text": [
      "\n",
      "[notice] A new release of pip is available: 24.3.1 -> 25.0.1\n",
      "[notice] To update, run: python.exe -m pip install --upgrade pip\n"
     ]
    },
    {
     "name": "stdout",
     "output_type": "stream",
     "text": [
      "Requirement already satisfied: python-dotenv in c:\\python312\\lib\\site-packages (1.0.1)\n",
      "Note: you may need to restart the kernel to use updated packages.\n"
     ]
    },
    {
     "name": "stderr",
     "output_type": "stream",
     "text": [
      "\n",
      "[notice] A new release of pip is available: 24.3.1 -> 25.0.1\n",
      "[notice] To update, run: python.exe -m pip install --upgrade pip\n"
     ]
    },
    {
     "name": "stdout",
     "output_type": "stream",
     "text": [
      "Requirement already satisfied: influxdb-client in c:\\python312\\lib\\site-packages (1.48.0)\n",
      "Requirement already satisfied: reactivex>=4.0.4 in c:\\python312\\lib\\site-packages (from influxdb-client) (4.0.4)\n",
      "Requirement already satisfied: certifi>=14.05.14 in c:\\python312\\lib\\site-packages (from influxdb-client) (2023.11.17)\n",
      "Requirement already satisfied: python-dateutil>=2.5.3 in c:\\python312\\lib\\site-packages (from influxdb-client) (2.8.2)\n",
      "Requirement already satisfied: setuptools>=21.0.0 in c:\\python312\\lib\\site-packages (from influxdb-client) (69.1.1)\n",
      "Requirement already satisfied: urllib3>=1.26.0 in c:\\python312\\lib\\site-packages (from influxdb-client) (2.1.0)\n",
      "Requirement already satisfied: six>=1.5 in c:\\python312\\lib\\site-packages (from python-dateutil>=2.5.3->influxdb-client) (1.16.0)\n",
      "Requirement already satisfied: typing-extensions<5.0.0,>=4.1.1 in c:\\python312\\lib\\site-packages (from reactivex>=4.0.4->influxdb-client) (4.10.0)\n",
      "Note: you may need to restart the kernel to use updated packages.\n"
     ]
    },
    {
     "name": "stderr",
     "output_type": "stream",
     "text": [
      "\n",
      "[notice] A new release of pip is available: 24.3.1 -> 25.0.1\n",
      "[notice] To update, run: python.exe -m pip install --upgrade pip\n"
     ]
    },
    {
     "name": "stdout",
     "output_type": "stream",
     "text": [
      "Requirement already satisfied: pandas in c:\\python312\\lib\\site-packages (2.2.2)\n",
      "Requirement already satisfied: numpy>=1.26.0 in c:\\python312\\lib\\site-packages (from pandas) (1.26.4)\n",
      "Requirement already satisfied: python-dateutil>=2.8.2 in c:\\python312\\lib\\site-packages (from pandas) (2.8.2)\n",
      "Requirement already satisfied: pytz>=2020.1 in c:\\python312\\lib\\site-packages (from pandas) (2024.1)\n",
      "Requirement already satisfied: tzdata>=2022.7 in c:\\python312\\lib\\site-packages (from pandas) (2024.1)\n",
      "Requirement already satisfied: six>=1.5 in c:\\python312\\lib\\site-packages (from python-dateutil>=2.8.2->pandas) (1.16.0)\n",
      "Note: you may need to restart the kernel to use updated packages.\n"
     ]
    },
    {
     "name": "stderr",
     "output_type": "stream",
     "text": [
      "\n",
      "[notice] A new release of pip is available: 24.3.1 -> 25.0.1\n",
      "[notice] To update, run: python.exe -m pip install --upgrade pip\n"
     ]
    },
    {
     "name": "stdout",
     "output_type": "stream",
     "text": [
      "Requirement already satisfied: pyyaml in c:\\python312\\lib\\site-packages (6.0.1)\n",
      "Note: you may need to restart the kernel to use updated packages.\n"
     ]
    },
    {
     "name": "stderr",
     "output_type": "stream",
     "text": [
      "\n",
      "[notice] A new release of pip is available: 24.3.1 -> 25.0.1\n",
      "[notice] To update, run: python.exe -m pip install --upgrade pip\n"
     ]
    },
    {
     "name": "stdout",
     "output_type": "stream",
     "text": [
      "Requirement already satisfied: numpy in c:\\python312\\lib\\site-packages (1.26.4)Note: you may need to restart the kernel to use updated packages.\n",
      "\n"
     ]
    },
    {
     "name": "stderr",
     "output_type": "stream",
     "text": [
      "\n",
      "[notice] A new release of pip is available: 24.3.1 -> 25.0.1\n",
      "[notice] To update, run: python.exe -m pip install --upgrade pip\n"
     ]
    },
    {
     "name": "stdout",
     "output_type": "stream",
     "text": [
      "Requirement already satisfied: matplotlib in c:\\python312\\lib\\site-packages (3.9.1)\n",
      "Requirement already satisfied: contourpy>=1.0.1 in c:\\python312\\lib\\site-packages (from matplotlib) (1.2.1)\n",
      "Requirement already satisfied: cycler>=0.10 in c:\\python312\\lib\\site-packages (from matplotlib) (0.12.1)\n",
      "Requirement already satisfied: fonttools>=4.22.0 in c:\\python312\\lib\\site-packages (from matplotlib) (4.53.1)\n",
      "Requirement already satisfied: kiwisolver>=1.3.1 in c:\\python312\\lib\\site-packages (from matplotlib) (1.4.5)\n",
      "Requirement already satisfied: numpy>=1.23 in c:\\python312\\lib\\site-packages (from matplotlib) (1.26.4)\n",
      "Requirement already satisfied: packaging>=20.0 in c:\\python312\\lib\\site-packages (from matplotlib) (23.2)\n",
      "Requirement already satisfied: pillow>=8 in c:\\python312\\lib\\site-packages (from matplotlib) (10.4.0)\n",
      "Requirement already satisfied: pyparsing>=2.3.1 in c:\\python312\\lib\\site-packages (from matplotlib) (3.1.2)\n",
      "Requirement already satisfied: python-dateutil>=2.7 in c:\\python312\\lib\\site-packages (from matplotlib) (2.8.2)\n",
      "Requirement already satisfied: six>=1.5 in c:\\python312\\lib\\site-packages (from python-dateutil>=2.7->matplotlib) (1.16.0)\n",
      "Note: you may need to restart the kernel to use updated packages.\n"
     ]
    },
    {
     "name": "stderr",
     "output_type": "stream",
     "text": [
      "\n",
      "[notice] A new release of pip is available: 24.3.1 -> 25.0.1\n",
      "[notice] To update, run: python.exe -m pip install --upgrade pip\n"
     ]
    }
   ],
   "source": [
    "%pip install --upgrade scikit-learn\n",
    "%pip install python-dotenv\n",
    "%pip install influxdb-client\n",
    "%pip install pandas\n",
    "%pip install pyyaml\n",
    "%pip install numpy\n",
    "%pip install matplotlib"
   ]
  },
  {
   "cell_type": "code",
   "execution_count": 36,
   "metadata": {},
   "outputs": [
    {
     "data": {
      "text/plain": [
       "False"
      ]
     },
     "execution_count": 36,
     "metadata": {},
     "output_type": "execute_result"
    }
   ],
   "source": [
    "import io\n",
    "import os\n",
    "import time\n",
    "import yaml\n",
    "import warnings\n",
    "import pandas as pd\n",
    "import json\n",
    "import hashlib\n",
    "import matplotlib.pyplot as plt\n",
    "import csv\n",
    "from influxdb_client import InfluxDBClient\n",
    "from influxdb_client.client.warnings import MissingPivotFunction\n",
    "from dotenv import load_dotenv\n",
    "\n",
    "import numpy as np\n",
    "from functools import partial\n",
    "\n",
    "warnings.simplefilter(\"ignore\", MissingPivotFunction)\n",
    "\n",
    "load_dotenv()"
   ]
  },
  {
   "cell_type": "markdown",
   "metadata": {},
   "source": [
    "# Import Dataset"
   ]
  },
  {
   "cell_type": "code",
   "execution_count": 37,
   "metadata": {},
   "outputs": [],
   "source": [
    "df_digi = pd.read_csv('dataset.csv')\n",
    "df_dosen = pd.read_csv('dosen.csv')\n",
    "df_sc = pd.read_csv('student_corner.csv')\n",
    "df_eltron = pd.read_csv('half eltron.csv')"
   ]
  },
  {
   "cell_type": "code",
   "execution_count": 38,
   "metadata": {},
   "outputs": [],
   "source": [
    "# Cleaning from invalid data\n",
    "df_sc = df_sc[~df_sc[\"reference_point\"].str.contains(\"RP31\", na=False)]\n"
   ]
  },
  {
   "cell_type": "code",
   "execution_count": 39,
   "metadata": {},
   "outputs": [],
   "source": [
    "df = pd.concat([df_digi, df_dosen, df_sc, df_eltron], ignore_index=True)"
   ]
  },
  {
   "cell_type": "code",
   "execution_count": 40,
   "metadata": {},
   "outputs": [
    {
     "data": {
      "text/html": [
       "<div>\n",
       "<style scoped>\n",
       "    .dataframe tbody tr th:only-of-type {\n",
       "        vertical-align: middle;\n",
       "    }\n",
       "\n",
       "    .dataframe tbody tr th {\n",
       "        vertical-align: top;\n",
       "    }\n",
       "\n",
       "    .dataframe thead th {\n",
       "        text-align: right;\n",
       "    }\n",
       "</style>\n",
       "<table border=\"1\" class=\"dataframe\">\n",
       "  <thead>\n",
       "    <tr style=\"text-align: right;\">\n",
       "      <th></th>\n",
       "      <th>Unnamed: 0</th>\n",
       "      <th>bssid</th>\n",
       "      <th>channel</th>\n",
       "      <th>host</th>\n",
       "      <th>iteration</th>\n",
       "      <th>reference_point</th>\n",
       "      <th>rssi</th>\n",
       "      <th>ssid</th>\n",
       "      <th>time</th>\n",
       "      <th>topic</th>\n",
       "      <th>xr</th>\n",
       "      <th>yr</th>\n",
       "    </tr>\n",
       "  </thead>\n",
       "  <tbody>\n",
       "    <tr>\n",
       "      <th>0</th>\n",
       "      <td>NaN</td>\n",
       "      <td>70:A7:41:DC:8E:55</td>\n",
       "      <td>1</td>\n",
       "      <td>LAUREN</td>\n",
       "      <td>1</td>\n",
       "      <td>RP29</td>\n",
       "      <td>-92</td>\n",
       "      <td>DTE Staff</td>\n",
       "      <td>2024-10-17T10:19:36.0867022Z</td>\n",
       "      <td>esp/topic</td>\n",
       "      <td>989</td>\n",
       "      <td>1037</td>\n",
       "    </tr>\n",
       "    <tr>\n",
       "      <th>1</th>\n",
       "      <td>NaN</td>\n",
       "      <td>70:A7:41:DC:8E:55</td>\n",
       "      <td>1</td>\n",
       "      <td>LAUREN</td>\n",
       "      <td>10</td>\n",
       "      <td>RP29</td>\n",
       "      <td>-94</td>\n",
       "      <td>DTE Staff</td>\n",
       "      <td>2024-10-17T10:23:26.6782315Z</td>\n",
       "      <td>esp/topic</td>\n",
       "      <td>989</td>\n",
       "      <td>1037</td>\n",
       "    </tr>\n",
       "    <tr>\n",
       "      <th>2</th>\n",
       "      <td>NaN</td>\n",
       "      <td>70:A7:41:DC:8E:55</td>\n",
       "      <td>1</td>\n",
       "      <td>LAUREN</td>\n",
       "      <td>11</td>\n",
       "      <td>RP29</td>\n",
       "      <td>-94</td>\n",
       "      <td>DTE Staff</td>\n",
       "      <td>2024-10-17T10:23:51.8041404Z</td>\n",
       "      <td>esp/topic</td>\n",
       "      <td>989</td>\n",
       "      <td>1037</td>\n",
       "    </tr>\n",
       "    <tr>\n",
       "      <th>3</th>\n",
       "      <td>NaN</td>\n",
       "      <td>70:A7:41:DC:8E:55</td>\n",
       "      <td>1</td>\n",
       "      <td>LAUREN</td>\n",
       "      <td>12</td>\n",
       "      <td>RP29</td>\n",
       "      <td>-90</td>\n",
       "      <td>DTE Staff</td>\n",
       "      <td>2024-10-17T10:24:13.6954786Z</td>\n",
       "      <td>esp/topic</td>\n",
       "      <td>989</td>\n",
       "      <td>1037</td>\n",
       "    </tr>\n",
       "    <tr>\n",
       "      <th>4</th>\n",
       "      <td>NaN</td>\n",
       "      <td>70:A7:41:DC:8E:55</td>\n",
       "      <td>1</td>\n",
       "      <td>LAUREN</td>\n",
       "      <td>13</td>\n",
       "      <td>RP29</td>\n",
       "      <td>-91</td>\n",
       "      <td>DTE Staff</td>\n",
       "      <td>2024-10-17T10:24:38.6661326Z</td>\n",
       "      <td>esp/topic</td>\n",
       "      <td>989</td>\n",
       "      <td>1037</td>\n",
       "    </tr>\n",
       "  </tbody>\n",
       "</table>\n",
       "</div>"
      ],
      "text/plain": [
       "   Unnamed: 0              bssid  channel    host  iteration reference_point  \\\n",
       "0         NaN  70:A7:41:DC:8E:55        1  LAUREN          1            RP29   \n",
       "1         NaN  70:A7:41:DC:8E:55        1  LAUREN         10            RP29   \n",
       "2         NaN  70:A7:41:DC:8E:55        1  LAUREN         11            RP29   \n",
       "3         NaN  70:A7:41:DC:8E:55        1  LAUREN         12            RP29   \n",
       "4         NaN  70:A7:41:DC:8E:55        1  LAUREN         13            RP29   \n",
       "\n",
       "   rssi       ssid                          time      topic   xr    yr  \n",
       "0   -92  DTE Staff  2024-10-17T10:19:36.0867022Z  esp/topic  989  1037  \n",
       "1   -94  DTE Staff  2024-10-17T10:23:26.6782315Z  esp/topic  989  1037  \n",
       "2   -94  DTE Staff  2024-10-17T10:23:51.8041404Z  esp/topic  989  1037  \n",
       "3   -90  DTE Staff  2024-10-17T10:24:13.6954786Z  esp/topic  989  1037  \n",
       "4   -91  DTE Staff  2024-10-17T10:24:38.6661326Z  esp/topic  989  1037  "
      ]
     },
     "execution_count": 40,
     "metadata": {},
     "output_type": "execute_result"
    }
   ],
   "source": [
    "df.head()"
   ]
  },
  {
   "cell_type": "code",
   "execution_count": 41,
   "metadata": {},
   "outputs": [
    {
     "data": {
      "text/plain": [
       "Index(['Unnamed: 0', 'bssid', 'channel', 'host', 'iteration',\n",
       "       'reference_point', 'rssi', 'ssid', 'time', 'topic', 'xr', 'yr'],\n",
       "      dtype='object')"
      ]
     },
     "execution_count": 41,
     "metadata": {},
     "output_type": "execute_result"
    }
   ],
   "source": [
    "df.columns"
   ]
  },
  {
   "cell_type": "markdown",
   "metadata": {},
   "source": [
    "## Drop Unnecessary Columns"
   ]
  },
  {
   "cell_type": "code",
   "execution_count": 42,
   "metadata": {},
   "outputs": [],
   "source": [
    "df = df.drop(columns=['Unnamed: 0','host', 'topic'])"
   ]
  },
  {
   "cell_type": "code",
   "execution_count": 43,
   "metadata": {},
   "outputs": [
    {
     "data": {
      "text/html": [
       "<div>\n",
       "<style scoped>\n",
       "    .dataframe tbody tr th:only-of-type {\n",
       "        vertical-align: middle;\n",
       "    }\n",
       "\n",
       "    .dataframe tbody tr th {\n",
       "        vertical-align: top;\n",
       "    }\n",
       "\n",
       "    .dataframe thead th {\n",
       "        text-align: right;\n",
       "    }\n",
       "</style>\n",
       "<table border=\"1\" class=\"dataframe\">\n",
       "  <thead>\n",
       "    <tr style=\"text-align: right;\">\n",
       "      <th></th>\n",
       "      <th>bssid</th>\n",
       "      <th>channel</th>\n",
       "      <th>iteration</th>\n",
       "      <th>reference_point</th>\n",
       "      <th>rssi</th>\n",
       "      <th>ssid</th>\n",
       "      <th>time</th>\n",
       "      <th>xr</th>\n",
       "      <th>yr</th>\n",
       "    </tr>\n",
       "  </thead>\n",
       "  <tbody>\n",
       "    <tr>\n",
       "      <th>2263</th>\n",
       "      <td>70:A7:41:DC:77:CD</td>\n",
       "      <td>1</td>\n",
       "      <td>19</td>\n",
       "      <td>RP66</td>\n",
       "      <td>-74</td>\n",
       "      <td>DTE Staff</td>\n",
       "      <td>2025-03-01T02:27:15.5186908Z</td>\n",
       "      <td>1826</td>\n",
       "      <td>1948</td>\n",
       "    </tr>\n",
       "    <tr>\n",
       "      <th>274</th>\n",
       "      <td>70:A7:41:DC:77:CD</td>\n",
       "      <td>11</td>\n",
       "      <td>6</td>\n",
       "      <td>RP29</td>\n",
       "      <td>-45</td>\n",
       "      <td>DTE Staff</td>\n",
       "      <td>2024-10-17T10:21:38.7158651Z</td>\n",
       "      <td>989</td>\n",
       "      <td>1037</td>\n",
       "    </tr>\n",
       "    <tr>\n",
       "      <th>63</th>\n",
       "      <td>72:A7:41:9C:8E:55</td>\n",
       "      <td>1</td>\n",
       "      <td>14</td>\n",
       "      <td>RP30</td>\n",
       "      <td>-91</td>\n",
       "      <td>DTE IoT</td>\n",
       "      <td>2024-10-17T10:34:37.1101766Z</td>\n",
       "      <td>989</td>\n",
       "      <td>1202</td>\n",
       "    </tr>\n",
       "    <tr>\n",
       "      <th>1646</th>\n",
       "      <td>72:A7:41:9C:8E:55</td>\n",
       "      <td>1</td>\n",
       "      <td>5</td>\n",
       "      <td>RP39</td>\n",
       "      <td>-73</td>\n",
       "      <td>DTE IoT</td>\n",
       "      <td>2024-10-23T07:45:17.2173303Z</td>\n",
       "      <td>2224</td>\n",
       "      <td>1037</td>\n",
       "    </tr>\n",
       "    <tr>\n",
       "      <th>1205</th>\n",
       "      <td>70:A7:41:DC:77:CD</td>\n",
       "      <td>11</td>\n",
       "      <td>17</td>\n",
       "      <td>RP32</td>\n",
       "      <td>-44</td>\n",
       "      <td>DTE Staff</td>\n",
       "      <td>2024-10-23T09:22:18.6175566Z</td>\n",
       "      <td>1219</td>\n",
       "      <td>1202</td>\n",
       "    </tr>\n",
       "    <tr>\n",
       "      <th>3283</th>\n",
       "      <td>72:A7:41:9C:77:CD</td>\n",
       "      <td>1</td>\n",
       "      <td>20</td>\n",
       "      <td>RP82</td>\n",
       "      <td>-68</td>\n",
       "      <td>DTE Student</td>\n",
       "      <td>2025-03-01T02:16:36.0037611Z</td>\n",
       "      <td>2000</td>\n",
       "      <td>838</td>\n",
       "    </tr>\n",
       "    <tr>\n",
       "      <th>2964</th>\n",
       "      <td>72:A7:41:9C:77:CD</td>\n",
       "      <td>1</td>\n",
       "      <td>1</td>\n",
       "      <td>RP90</td>\n",
       "      <td>-62</td>\n",
       "      <td>DTE Student</td>\n",
       "      <td>2025-03-01T05:00:52.6652095Z</td>\n",
       "      <td>2454</td>\n",
       "      <td>1393</td>\n",
       "    </tr>\n",
       "    <tr>\n",
       "      <th>1031</th>\n",
       "      <td>72:A7:41:9C:77:CD</td>\n",
       "      <td>11</td>\n",
       "      <td>19</td>\n",
       "      <td>RP19</td>\n",
       "      <td>-71</td>\n",
       "      <td>DTE Student</td>\n",
       "      <td>2024-10-23T04:16:02.5510164Z</td>\n",
       "      <td>989</td>\n",
       "      <td>1948</td>\n",
       "    </tr>\n",
       "    <tr>\n",
       "      <th>1904</th>\n",
       "      <td>70:A7:41:DC:77:CD</td>\n",
       "      <td>11</td>\n",
       "      <td>1</td>\n",
       "      <td>RP42</td>\n",
       "      <td>-58</td>\n",
       "      <td>DTE Staff</td>\n",
       "      <td>2024-10-23T07:09:45.0457192Z</td>\n",
       "      <td>2454</td>\n",
       "      <td>1202</td>\n",
       "    </tr>\n",
       "    <tr>\n",
       "      <th>481</th>\n",
       "      <td>72:A7:41:9C:77:CD</td>\n",
       "      <td>11</td>\n",
       "      <td>13</td>\n",
       "      <td>RP5</td>\n",
       "      <td>-67</td>\n",
       "      <td>DTE Student</td>\n",
       "      <td>2024-10-17T09:30:38.7287048Z</td>\n",
       "      <td>300</td>\n",
       "      <td>2130</td>\n",
       "    </tr>\n",
       "  </tbody>\n",
       "</table>\n",
       "</div>"
      ],
      "text/plain": [
       "                  bssid  channel  iteration reference_point  rssi  \\\n",
       "2263  70:A7:41:DC:77:CD        1         19            RP66   -74   \n",
       "274   70:A7:41:DC:77:CD       11          6            RP29   -45   \n",
       "63    72:A7:41:9C:8E:55        1         14            RP30   -91   \n",
       "1646  72:A7:41:9C:8E:55        1          5            RP39   -73   \n",
       "1205  70:A7:41:DC:77:CD       11         17            RP32   -44   \n",
       "3283  72:A7:41:9C:77:CD        1         20            RP82   -68   \n",
       "2964  72:A7:41:9C:77:CD        1          1            RP90   -62   \n",
       "1031  72:A7:41:9C:77:CD       11         19            RP19   -71   \n",
       "1904  70:A7:41:DC:77:CD       11          1            RP42   -58   \n",
       "481   72:A7:41:9C:77:CD       11         13             RP5   -67   \n",
       "\n",
       "             ssid                          time    xr    yr  \n",
       "2263    DTE Staff  2025-03-01T02:27:15.5186908Z  1826  1948  \n",
       "274     DTE Staff  2024-10-17T10:21:38.7158651Z   989  1037  \n",
       "63        DTE IoT  2024-10-17T10:34:37.1101766Z   989  1202  \n",
       "1646      DTE IoT  2024-10-23T07:45:17.2173303Z  2224  1037  \n",
       "1205    DTE Staff  2024-10-23T09:22:18.6175566Z  1219  1202  \n",
       "3283  DTE Student  2025-03-01T02:16:36.0037611Z  2000   838  \n",
       "2964  DTE Student  2025-03-01T05:00:52.6652095Z  2454  1393  \n",
       "1031  DTE Student  2024-10-23T04:16:02.5510164Z   989  1948  \n",
       "1904    DTE Staff  2024-10-23T07:09:45.0457192Z  2454  1202  \n",
       "481   DTE Student  2024-10-17T09:30:38.7287048Z   300  2130  "
      ]
     },
     "execution_count": 43,
     "metadata": {},
     "output_type": "execute_result"
    }
   ],
   "source": [
    "df.sample(10)"
   ]
  },
  {
   "cell_type": "code",
   "execution_count": 44,
   "metadata": {},
   "outputs": [
    {
     "name": "stdout",
     "output_type": "stream",
     "text": [
      "<class 'pandas.core.frame.DataFrame'>\n",
      "RangeIndex: 5172 entries, 0 to 5171\n",
      "Data columns (total 9 columns):\n",
      " #   Column           Non-Null Count  Dtype \n",
      "---  ------           --------------  ----- \n",
      " 0   bssid            5172 non-null   object\n",
      " 1   channel          5172 non-null   int64 \n",
      " 2   iteration        5172 non-null   int64 \n",
      " 3   reference_point  5172 non-null   object\n",
      " 4   rssi             5172 non-null   int64 \n",
      " 5   ssid             5172 non-null   object\n",
      " 6   time             5172 non-null   object\n",
      " 7   xr               5172 non-null   int64 \n",
      " 8   yr               5172 non-null   int64 \n",
      "dtypes: int64(5), object(4)\n",
      "memory usage: 363.8+ KB\n"
     ]
    }
   ],
   "source": [
    "df.info()"
   ]
  },
  {
   "cell_type": "code",
   "execution_count": 45,
   "metadata": {},
   "outputs": [
    {
     "data": {
      "text/plain": [
       "array(['70:A7:41:DC:8E:55', '72:A7:41:9C:8E:55', '70:A7:41:DC:77:CD',\n",
       "       '72:A7:41:9C:77:CD'], dtype=object)"
      ]
     },
     "execution_count": 45,
     "metadata": {},
     "output_type": "execute_result"
    }
   ],
   "source": [
    "df['bssid'].unique()"
   ]
  },
  {
   "cell_type": "code",
   "execution_count": 46,
   "metadata": {},
   "outputs": [],
   "source": [
    "df['ssid'] = df['ssid'].replace('DTE IoT', 'DTE Staff')"
   ]
  },
  {
   "cell_type": "code",
   "execution_count": 47,
   "metadata": {},
   "outputs": [
    {
     "data": {
      "text/plain": [
       "array(['DTE Staff', 'DTE Student'], dtype=object)"
      ]
     },
     "execution_count": 47,
     "metadata": {},
     "output_type": "execute_result"
    }
   ],
   "source": [
    "df['ssid'].unique()"
   ]
  },
  {
   "cell_type": "code",
   "execution_count": 48,
   "metadata": {},
   "outputs": [
    {
     "data": {
      "text/plain": [
       "array(['RP29', 'RP30', 'RP37', 'RP4', 'RP5', 'RP6', 'RP1', 'RP10', 'RP2',\n",
       "       'RP3', 'RP7', 'RP8', 'RP9', 'RP11', 'RP12', 'RP13', 'RP14', 'RP15',\n",
       "       'RP16', 'RP17', 'RP18', 'RP19', 'RP20', 'RP31', 'RP32', 'RP33',\n",
       "       'RP34', 'RP35', 'RP36', 'RP38', 'RP39', 'RP40', 'RP41', 'RP42',\n",
       "       'RP49', 'RP53', 'RP54', 'RP55', 'RP56', 'RP58', 'RP59', 'RP60',\n",
       "       'RP61', 'RP63', 'RP64', 'RP66', 'RP67', 'RP68', 'RP69', 'RP70',\n",
       "       'RP71', 'RP72', 'RP74', 'RP75', 'RP76', 'RP77', 'RP80', 'RP81',\n",
       "       'RP82', 'RP85', 'RP88', 'RP89', 'RP90', 'RP113', 'RP114', 'RP115',\n",
       "       'RP118', 'RP119', 'RP120', 'RP100', 'RP103', 'RP104', 'RP105',\n",
       "       'RP108', 'RP109', 'RP28', 'RP93', 'RP94', 'RP95', 'RP98', 'RP99',\n",
       "       'RP110'], dtype=object)"
      ]
     },
     "execution_count": 48,
     "metadata": {},
     "output_type": "execute_result"
    }
   ],
   "source": [
    "df['reference_point'].unique()"
   ]
  },
  {
   "cell_type": "code",
   "execution_count": 49,
   "metadata": {},
   "outputs": [
    {
     "name": "stdout",
     "output_type": "stream",
     "text": [
      "                              time reference_point  iteration         ssid  \\\n",
      "0     2024-10-17T08:38:31.9525624Z             RP1          3  DTE Student   \n",
      "1     2024-10-17T08:39:38.6086206Z             RP1          1    DTE Staff   \n",
      "2     2024-10-17T08:39:45.8326223Z             RP1          1  DTE Student   \n",
      "3     2024-10-17T08:40:03.1574484Z             RP1          2  DTE Student   \n",
      "4     2024-10-17T08:40:08.1701809Z             RP1          2    DTE Staff   \n",
      "...                            ...             ...        ...          ...   \n",
      "5167  2025-03-03T08:57:04.2900809Z            RP94          4    DTE Staff   \n",
      "5168  2025-03-03T08:57:20.4820244Z            RP94          5  DTE Student   \n",
      "5169   2025-03-03T08:57:23.550665Z            RP94          5    DTE Staff   \n",
      "5170  2025-03-03T08:57:26.5138023Z            RP94          5    DTE Staff   \n",
      "5171  2025-03-03T08:57:29.4971955Z            RP94          5    DTE Staff   \n",
      "\n",
      "                  bssid  channel   xr    yr  rssi_ap_digilab  rssi_ap_dosen  \n",
      "0     72:a7:41:9c:77:cd       11  300  1368            -64.0            NaN  \n",
      "1     70:a7:41:dc:77:cd       11  300  1368            -63.0            NaN  \n",
      "2     72:a7:41:9c:77:cd       11  300  1368            -63.0            NaN  \n",
      "3     72:a7:41:9c:77:cd       11  300  1368            -64.0            NaN  \n",
      "4     70:a7:41:dc:77:cd       11  300  1368            -65.0            NaN  \n",
      "...                 ...      ...  ...   ...              ...            ...  \n",
      "5167  72:a7:41:9c:8e:55       11  520   639              NaN          -83.0  \n",
      "5168  72:a7:41:9c:77:cd        6  520   639            -57.0            NaN  \n",
      "5169  70:a7:41:dc:77:cd        6  520   639            -58.0            NaN  \n",
      "5170  70:a7:41:dc:8e:55       11  520   639              NaN          -84.0  \n",
      "5171  72:a7:41:9c:8e:55       11  520   639              NaN          -85.0  \n",
      "\n",
      "[5172 rows x 10 columns]\n"
     ]
    }
   ],
   "source": [
    "import pandas as pd\n",
    "\n",
    "df['bssid'] = df['bssid'].str.lower()\n",
    "\n",
    "# BSSID mapping for classification\n",
    "bssid_classification = {\n",
    "    '70:a7:41:dc:8e:55': 'ap_dosen',     # Dosen (Staff)\n",
    "    '72:a7:41:9c:8e:55': 'ap_dosen',     # Dosen (Student)\n",
    "    '70:a7:41:dc:77:cd': 'ap_digilab',   # Digilab (Staff)\n",
    "    '72:a7:41:9c:77:cd': 'ap_digilab'    # Digilab (Student)\n",
    "}\n",
    "\n",
    "# Map BSSID to AP classification\n",
    "df['AP_class'] = df['bssid'].map(bssid_classification)\n",
    "\n",
    "# Check if there are any NaN values (due to missing BSSID mapping)\n",
    "missing_bssid = df[df['AP_class'].isna()]\n",
    "if not missing_bssid.empty:\n",
    "    print(\"These BSSIDs were not classified:\")\n",
    "    print(missing_bssid)\n",
    "\n",
    "# Pivot the dataframe\n",
    "pivot_df = df.pivot_table(index=['time', 'reference_point', 'iteration', 'ssid', 'bssid', 'channel', 'xr', 'yr'], columns='AP_class', values='rssi').reset_index()\n",
    "\n",
    "# Rename columns for clarity\n",
    "pivot_df.columns = ['time', 'reference_point', 'iteration', 'ssid', 'bssid', 'channel', 'xr', 'yr'] + ['rssi_' + col for col in pivot_df.columns[8:]]\n",
    "\n",
    "# Show the result\n",
    "print(pivot_df)"
   ]
  },
  {
   "cell_type": "code",
   "execution_count": 50,
   "metadata": {},
   "outputs": [
    {
     "data": {
      "text/html": [
       "<div>\n",
       "<style scoped>\n",
       "    .dataframe tbody tr th:only-of-type {\n",
       "        vertical-align: middle;\n",
       "    }\n",
       "\n",
       "    .dataframe tbody tr th {\n",
       "        vertical-align: top;\n",
       "    }\n",
       "\n",
       "    .dataframe thead th {\n",
       "        text-align: right;\n",
       "    }\n",
       "</style>\n",
       "<table border=\"1\" class=\"dataframe\">\n",
       "  <thead>\n",
       "    <tr style=\"text-align: right;\">\n",
       "      <th></th>\n",
       "      <th>time</th>\n",
       "      <th>reference_point</th>\n",
       "      <th>iteration</th>\n",
       "      <th>ssid</th>\n",
       "      <th>bssid</th>\n",
       "      <th>channel</th>\n",
       "      <th>xr</th>\n",
       "      <th>yr</th>\n",
       "      <th>rssi_ap_digilab</th>\n",
       "      <th>rssi_ap_dosen</th>\n",
       "    </tr>\n",
       "  </thead>\n",
       "  <tbody>\n",
       "    <tr>\n",
       "      <th>3543</th>\n",
       "      <td>2025-03-01T03:13:09.5957577Z</td>\n",
       "      <td>RP56</td>\n",
       "      <td>9</td>\n",
       "      <td>DTE Student</td>\n",
       "      <td>72:a7:41:9c:77:cd</td>\n",
       "      <td>1</td>\n",
       "      <td>1479</td>\n",
       "      <td>1948</td>\n",
       "      <td>-65.0</td>\n",
       "      <td>NaN</td>\n",
       "    </tr>\n",
       "    <tr>\n",
       "      <th>1400</th>\n",
       "      <td>2024-10-23T07:33:49.1991921Z</td>\n",
       "      <td>RP40</td>\n",
       "      <td>3</td>\n",
       "      <td>DTE Staff</td>\n",
       "      <td>70:a7:41:dc:8e:55</td>\n",
       "      <td>1</td>\n",
       "      <td>2224</td>\n",
       "      <td>1202</td>\n",
       "      <td>NaN</td>\n",
       "      <td>-89.0</td>\n",
       "    </tr>\n",
       "    <tr>\n",
       "      <th>1851</th>\n",
       "      <td>2024-10-23T09:18:08.2232835Z</td>\n",
       "      <td>RP32</td>\n",
       "      <td>7</td>\n",
       "      <td>DTE Staff</td>\n",
       "      <td>72:a7:41:9c:8e:55</td>\n",
       "      <td>1</td>\n",
       "      <td>1219</td>\n",
       "      <td>1202</td>\n",
       "      <td>NaN</td>\n",
       "      <td>-94.0</td>\n",
       "    </tr>\n",
       "    <tr>\n",
       "      <th>4814</th>\n",
       "      <td>2025-03-03T07:59:42.1229083Z</td>\n",
       "      <td>RP108</td>\n",
       "      <td>20</td>\n",
       "      <td>DTE Staff</td>\n",
       "      <td>70:a7:41:dc:8e:55</td>\n",
       "      <td>11</td>\n",
       "      <td>1120</td>\n",
       "      <td>469</td>\n",
       "      <td>NaN</td>\n",
       "      <td>-88.0</td>\n",
       "    </tr>\n",
       "    <tr>\n",
       "      <th>417</th>\n",
       "      <td>2024-10-17T10:14:02.7286326Z</td>\n",
       "      <td>RP10</td>\n",
       "      <td>14</td>\n",
       "      <td>DTE Student</td>\n",
       "      <td>72:a7:41:9c:77:cd</td>\n",
       "      <td>11</td>\n",
       "      <td>529</td>\n",
       "      <td>2130</td>\n",
       "      <td>-66.0</td>\n",
       "      <td>NaN</td>\n",
       "    </tr>\n",
       "    <tr>\n",
       "      <th>5008</th>\n",
       "      <td>2025-03-03T08:26:45.0526471Z</td>\n",
       "      <td>RP99</td>\n",
       "      <td>17</td>\n",
       "      <td>DTE Staff</td>\n",
       "      <td>72:a7:41:9c:8e:55</td>\n",
       "      <td>11</td>\n",
       "      <td>720</td>\n",
       "      <td>639</td>\n",
       "      <td>NaN</td>\n",
       "      <td>-98.0</td>\n",
       "    </tr>\n",
       "    <tr>\n",
       "      <th>3250</th>\n",
       "      <td>2025-03-01T02:23:06.9928588Z</td>\n",
       "      <td>RP66</td>\n",
       "      <td>8</td>\n",
       "      <td>DTE Staff</td>\n",
       "      <td>72:a7:41:9c:8e:55</td>\n",
       "      <td>11</td>\n",
       "      <td>1826</td>\n",
       "      <td>1948</td>\n",
       "      <td>NaN</td>\n",
       "      <td>-95.0</td>\n",
       "    </tr>\n",
       "    <tr>\n",
       "      <th>3072</th>\n",
       "      <td>2025-03-01T01:59:24.2599407Z</td>\n",
       "      <td>RP81</td>\n",
       "      <td>2</td>\n",
       "      <td>DTE Staff</td>\n",
       "      <td>72:a7:41:9c:8e:55</td>\n",
       "      <td>11</td>\n",
       "      <td>2000</td>\n",
       "      <td>639</td>\n",
       "      <td>NaN</td>\n",
       "      <td>-76.0</td>\n",
       "    </tr>\n",
       "    <tr>\n",
       "      <th>4785</th>\n",
       "      <td>2025-03-03T07:55:52.1113845Z</td>\n",
       "      <td>RP108</td>\n",
       "      <td>10</td>\n",
       "      <td>DTE Student</td>\n",
       "      <td>72:a7:41:9c:77:cd</td>\n",
       "      <td>6</td>\n",
       "      <td>1120</td>\n",
       "      <td>469</td>\n",
       "      <td>-51.0</td>\n",
       "      <td>NaN</td>\n",
       "    </tr>\n",
       "    <tr>\n",
       "      <th>1356</th>\n",
       "      <td>2024-10-23T07:27:56.941797Z</td>\n",
       "      <td>RP41</td>\n",
       "      <td>12</td>\n",
       "      <td>DTE Staff</td>\n",
       "      <td>70:a7:41:dc:8e:55</td>\n",
       "      <td>1</td>\n",
       "      <td>2454</td>\n",
       "      <td>1037</td>\n",
       "      <td>NaN</td>\n",
       "      <td>-64.0</td>\n",
       "    </tr>\n",
       "  </tbody>\n",
       "</table>\n",
       "</div>"
      ],
      "text/plain": [
       "                              time reference_point  iteration         ssid  \\\n",
       "3543  2025-03-01T03:13:09.5957577Z            RP56          9  DTE Student   \n",
       "1400  2024-10-23T07:33:49.1991921Z            RP40          3    DTE Staff   \n",
       "1851  2024-10-23T09:18:08.2232835Z            RP32          7    DTE Staff   \n",
       "4814  2025-03-03T07:59:42.1229083Z           RP108         20    DTE Staff   \n",
       "417   2024-10-17T10:14:02.7286326Z            RP10         14  DTE Student   \n",
       "5008  2025-03-03T08:26:45.0526471Z            RP99         17    DTE Staff   \n",
       "3250  2025-03-01T02:23:06.9928588Z            RP66          8    DTE Staff   \n",
       "3072  2025-03-01T01:59:24.2599407Z            RP81          2    DTE Staff   \n",
       "4785  2025-03-03T07:55:52.1113845Z           RP108         10  DTE Student   \n",
       "1356   2024-10-23T07:27:56.941797Z            RP41         12    DTE Staff   \n",
       "\n",
       "                  bssid  channel    xr    yr  rssi_ap_digilab  rssi_ap_dosen  \n",
       "3543  72:a7:41:9c:77:cd        1  1479  1948            -65.0            NaN  \n",
       "1400  70:a7:41:dc:8e:55        1  2224  1202              NaN          -89.0  \n",
       "1851  72:a7:41:9c:8e:55        1  1219  1202              NaN          -94.0  \n",
       "4814  70:a7:41:dc:8e:55       11  1120   469              NaN          -88.0  \n",
       "417   72:a7:41:9c:77:cd       11   529  2130            -66.0            NaN  \n",
       "5008  72:a7:41:9c:8e:55       11   720   639              NaN          -98.0  \n",
       "3250  72:a7:41:9c:8e:55       11  1826  1948              NaN          -95.0  \n",
       "3072  72:a7:41:9c:8e:55       11  2000   639              NaN          -76.0  \n",
       "4785  72:a7:41:9c:77:cd        6  1120   469            -51.0            NaN  \n",
       "1356  70:a7:41:dc:8e:55        1  2454  1037              NaN          -64.0  "
      ]
     },
     "execution_count": 50,
     "metadata": {},
     "output_type": "execute_result"
    }
   ],
   "source": [
    "pivot_df.sample(10)"
   ]
  },
  {
   "cell_type": "code",
   "execution_count": 51,
   "metadata": {},
   "outputs": [
    {
     "name": "stdout",
     "output_type": "stream",
     "text": [
      "Data saved to ui_data.csv\n",
      "Date range: 2024-10-17T08:38:31.9525624Z to 2025-03-03T08:57:29.4971955Z\n",
      "Total records: 5172\n",
      "X-coordinate range: 300 to 2454\n",
      "Y-coordinate range: 299 to 2130\n"
     ]
    }
   ],
   "source": [
    "# Save the final dataframe\n",
    "pivot_df.to_csv('ui_data_2.csv', index=False)\n",
    "print(f\"Data saved to {'ui_data.csv'}\")\n",
    "\n",
    "# Print some statistics\n",
    "print(f\"Date range: {pivot_df['time'].min()} to {pivot_df['time'].max()}\")\n",
    "print(f\"Total records: {len(pivot_df)}\")\n",
    "print(f\"X-coordinate range: {pivot_df['xr'].min()} to {pivot_df['xr'].max()}\")\n",
    "print(f\"Y-coordinate range: {pivot_df['yr'].min()} to {pivot_df['yr'].max()}\")"
   ]
  }
 ],
 "metadata": {
  "kernelspec": {
   "display_name": "venv",
   "language": "python",
   "name": "python3"
  },
  "language_info": {
   "codemirror_mode": {
    "name": "ipython",
    "version": 3
   },
   "file_extension": ".py",
   "mimetype": "text/x-python",
   "name": "python",
   "nbconvert_exporter": "python",
   "pygments_lexer": "ipython3",
   "version": "3.12.1"
  }
 },
 "nbformat": 4,
 "nbformat_minor": 2
}
